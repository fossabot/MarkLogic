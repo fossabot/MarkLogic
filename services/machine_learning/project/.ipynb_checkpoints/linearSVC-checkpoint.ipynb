{
 "cells": [
  {
   "cell_type": "markdown",
   "metadata": {},
   "source": [
    "# Linear SVC"
   ]
  },
  {
   "cell_type": "code",
   "execution_count": 1,
   "metadata": {},
   "outputs": [],
   "source": [
    "# import json\n",
    "# import pandas as pd\n",
    "# from sklearn import svm\n",
    "# from sklearn.svm import LinearSVC\n",
    "# from sklearn.datasets import make_classification\n",
    "# from sklearn.preprocessing import MultiLabelBinarizer\n",
    "# from sklearn.feature_extraction.text import TfidfVectorizer\n",
    "# from sklearn.feature_extraction.text import HashingVectorizer"
   ]
  },
  {
   "cell_type": "markdown",
   "metadata": {},
   "source": [
    "* LinearSVC implements “one-vs-the-rest” multi-class strategy, thus training n_class models.\n",
    "* An array X of size [n_samples, n_features] holding the training samples\n",
    "* Array Y of class labels (strings or integers), size [n_samples]:"
   ]
  },
  {
   "cell_type": "code",
   "execution_count": 2,
   "metadata": {},
   "outputs": [],
   "source": [
    "#X = [[0], [1], [2], [3], [4]]\n",
    "#Y = [0, 1, 2, 3, 4]"
   ]
  },
  {
   "cell_type": "code",
   "execution_count": 3,
   "metadata": {},
   "outputs": [],
   "source": [
    "#lin_clf = svm.LinearSVC()\n",
    "#lin_clf.fit(X, Y) "
   ]
  },
  {
   "cell_type": "code",
   "execution_count": null,
   "metadata": {},
   "outputs": [],
   "source": []
  },
  {
   "cell_type": "code",
   "execution_count": null,
   "metadata": {},
   "outputs": [],
   "source": []
  },
  {
   "cell_type": "code",
   "execution_count": 4,
   "metadata": {},
   "outputs": [],
   "source": [
    "# with open('data.json') as f:\n",
    "#     data = json.load(f)"
   ]
  },
  {
   "cell_type": "markdown",
   "metadata": {},
   "source": [
    "Create a TfidfVectorizer for out data"
   ]
  },
  {
   "cell_type": "code",
   "execution_count": 5,
   "metadata": {},
   "outputs": [],
   "source": [
    "# vectorizer = TfidfVectorizer()\n",
    "# X = [\n",
    "#     vectorizer.fit_transform(data['football']),\n",
    "#     vectorizer.fit_transform(data['basketball']),\n",
    "#     vectorizer.fit_transform(data['hockey']),\n",
    "#     vectorizer.fit_transform(data['baseball']),\n",
    "#     vectorizer.fit_transform(data['soccer'])\n",
    "#     ]\n",
    "\n",
    "\n",
    "# X = [\n",
    "#         data['football'],\n",
    "#         data['basketball'],\n",
    "#         data['hockey'],\n",
    "#         data['baseball'],\n",
    "#         data['soccer']\n",
    "#     ]"
   ]
  },
  {
   "cell_type": "markdown",
   "metadata": {},
   "source": [
    "# Pandas vectorized column names"
   ]
  },
  {
   "cell_type": "code",
   "execution_count": 6,
   "metadata": {},
   "outputs": [],
   "source": [
    "# vector = []\n",
    "# Y = []\n",
    "# vectorizer = HashingVectorizer(n_features=2 ** 20)\n",
    "# for element in data:\n",
    "#     vector.append(vectorizer.fit_transform(element))\n",
    "#     for key in element.keys():\n",
    "#         Y.append(key)"
   ]
  },
  {
   "cell_type": "code",
   "execution_count": 7,
   "metadata": {},
   "outputs": [],
   "source": [
    "# df = pd.DataFrame(data=vector, columns=['vector'])\n",
    "# df['sport'] = Y"
   ]
  },
  {
   "cell_type": "code",
   "execution_count": 8,
   "metadata": {},
   "outputs": [],
   "source": [
    "# vectorizer = HashingVectorizer(n_features=2 ** 20)"
   ]
  },
  {
   "cell_type": "code",
   "execution_count": 9,
   "metadata": {},
   "outputs": [],
   "source": [
    "# lin_clf = svm.LinearSVC()\n",
    "# lin_clf.fit(df.vector, df.sport)"
   ]
  },
  {
   "cell_type": "code",
   "execution_count": null,
   "metadata": {},
   "outputs": [],
   "source": []
  },
  {
   "cell_type": "code",
   "execution_count": 10,
   "metadata": {},
   "outputs": [],
   "source": [
    "# Y = ['football', 'basketball', 'hockey', 'baseball', 'soccer']\n",
    "# df = pd.DataFrame(data=X, index=Y)"
   ]
  },
  {
   "cell_type": "markdown",
   "metadata": {},
   "source": [
    "Scikit learn must have a 2d matrix so I am filling the excess values with a blank string for now"
   ]
  },
  {
   "cell_type": "code",
   "execution_count": 11,
   "metadata": {},
   "outputs": [],
   "source": [
    "# df = df.transpose()\n",
    "# df.fillna(value=\"\", inplace=True)\n",
    "# df.head()"
   ]
  },
  {
   "cell_type": "code",
   "execution_count": 12,
   "metadata": {},
   "outputs": [],
   "source": [
    "# vectorizer = TfidfVectorizer()\n",
    "# vectorizer.fit_transform(data['football'])\n",
    "# lin_clf = svm.LinearSVC()\n",
    "# lin_clf.fit(vectorizer.get_feature_names(), 'football')"
   ]
  },
  {
   "cell_type": "markdown",
   "metadata": {},
   "source": [
    "Vectorizer does not work with scm.LinearSVC() because some column names have numbers in them.\n",
    "* Ex: ValueError: could not convert string to float: '1stdown'\n"
   ]
  },
  {
   "cell_type": "markdown",
   "metadata": {},
   "source": [
    "# HashingVectorizer"
   ]
  },
  {
   "cell_type": "markdown",
   "metadata": {},
   "source": [
    "* n_features : integer, default = (2 ** 20)\n",
    "* The number of features (columns) in the output matrices. \n",
    "* Small numbers of features are likely to cause hash collisions, but large numbers will cause larger coefficient dimensions in linear learners."
   ]
  },
  {
   "cell_type": "code",
   "execution_count": 13,
   "metadata": {},
   "outputs": [],
   "source": [
    "# vectorizer = HashingVectorizer(n_features=2 ** 20)\n",
    "# # X = vectorizer.fit_transform(data)\n",
    "# # No longer works becasue of change in data.json"
   ]
  },
  {
   "cell_type": "code",
   "execution_count": 14,
   "metadata": {},
   "outputs": [],
   "source": [
    "# lin_clf = svm.LinearSVC()\n",
    "# lin_clf.fit(df.vector, df.sport)"
   ]
  },
  {
   "cell_type": "code",
   "execution_count": 15,
   "metadata": {},
   "outputs": [],
   "source": [
    "# sample = {}\n",
    "# sample['new'] = ['steal', 'homerun', 'strikeout']\n",
    "# Z = vectorizer.fit_transform(sample)\n",
    "# dec = lin_clf.decision_function(Z)"
   ]
  },
  {
   "cell_type": "code",
   "execution_count": 16,
   "metadata": {},
   "outputs": [],
   "source": [
    "# dec"
   ]
  },
  {
   "cell_type": "code",
   "execution_count": 17,
   "metadata": {},
   "outputs": [],
   "source": [
    "# print(X)"
   ]
  },
  {
   "cell_type": "code",
   "execution_count": null,
   "metadata": {},
   "outputs": [],
   "source": []
  },
  {
   "cell_type": "markdown",
   "metadata": {},
   "source": [
    "# Dict Vectorizer"
   ]
  },
  {
   "cell_type": "code",
   "execution_count": 18,
   "metadata": {},
   "outputs": [],
   "source": [
    "#from sklearn.feature_extraction import DictVectorizer"
   ]
  },
  {
   "cell_type": "code",
   "execution_count": 19,
   "metadata": {},
   "outputs": [],
   "source": [
    "# vec = DictVectorizer()\n",
    "# vec.fit_transform(data).toarray()"
   ]
  },
  {
   "cell_type": "markdown",
   "metadata": {},
   "source": [
    "* Dict Vectorizer does not like the shape of data.\n",
    "* Data key -> value is 'sport' -> ['column names',...]"
   ]
  },
  {
   "cell_type": "code",
   "execution_count": 20,
   "metadata": {},
   "outputs": [],
   "source": [
    "# df = pd.DataFrame.from_dict(data, orient='index')\n",
    "# df = df.transpose()\n",
    "# df.head()"
   ]
  },
  {
   "cell_type": "code",
   "execution_count": 21,
   "metadata": {},
   "outputs": [],
   "source": [
    "# # 0 -> football\n",
    "# # 1 -> basketball\n",
    "# # 0 -> hockey\n",
    "# # 0 -> baseball\n",
    "# # 0 -> soccer\n",
    "\n",
    "# X = [[0], [1], [2], [3], [4]]"
   ]
  },
  {
   "cell_type": "code",
   "execution_count": 22,
   "metadata": {},
   "outputs": [],
   "source": [
    "# Y = [len(data['football']),\n",
    "#      len(data['basketball']),\n",
    "#      len(data['hockey']),\n",
    "#      len(data['baseball']),\n",
    "#      len(data['soccer'])]"
   ]
  },
  {
   "cell_type": "code",
   "execution_count": 23,
   "metadata": {},
   "outputs": [],
   "source": [
    "#lin_clf = svm.LinearSVC()\n",
    "#lin_clf.fit(X, Y)\n"
   ]
  },
  {
   "cell_type": "code",
   "execution_count": 24,
   "metadata": {},
   "outputs": [],
   "source": [
    "# dec = lin_clf.decision_function([[1]])\n",
    "# dec"
   ]
  },
  {
   "cell_type": "code",
   "execution_count": 25,
   "metadata": {},
   "outputs": [],
   "source": [
    "# Y = [data['football'], \n",
    "#      data['basketball'], \n",
    "#      data['hockey'], \n",
    "#      data['baseball'], \n",
    "#      data['soccer']]\n",
    "# Y = MultiLabelBinarizer().fit_transform(Y)"
   ]
  },
  {
   "cell_type": "code",
   "execution_count": 26,
   "metadata": {},
   "outputs": [],
   "source": [
    "# lin_clf = svm.LinearSVC()\n",
    "# lin_clf.fit(X, Y) "
   ]
  },
  {
   "cell_type": "markdown",
   "metadata": {},
   "source": [
    "* Research TfidfVectorizer\n",
    "* https://scikit-learn.org/stable/modules/generated/sklearn.feature_extraction.text.TfidfVectorizer.html\n",
    "* lin_clf.fit() is complaining about bad input shape\n",
    "* https://scikit-learn.org/stable/modules/generated/sklearn.feature_extraction.text.HashingVectorizer.html"
   ]
  },
  {
   "cell_type": "code",
   "execution_count": null,
   "metadata": {},
   "outputs": [],
   "source": []
  },
  {
   "cell_type": "code",
   "execution_count": 27,
   "metadata": {},
   "outputs": [],
   "source": [
    "# from sklearn import preprocessing\n",
    "# import pandas as pd\n",
    "# import json"
   ]
  },
  {
   "cell_type": "code",
   "execution_count": 28,
   "metadata": {},
   "outputs": [],
   "source": [
    "# # Import json file\n",
    "# with open('data.json') as f:\n",
    "#     data = json.load(f)"
   ]
  },
  {
   "cell_type": "code",
   "execution_count": 29,
   "metadata": {},
   "outputs": [],
   "source": [
    "# # Load json file into pandas dataframe\n",
    "# df = pd.read_json('data.json')\n",
    "# df = df.fillna('')"
   ]
  },
  {
   "cell_type": "code",
   "execution_count": 30,
   "metadata": {},
   "outputs": [],
   "source": [
    "# # Create the Labelencoder object\n",
    "# le = preprocessing.LabelEncoder()"
   ]
  },
  {
   "cell_type": "code",
   "execution_count": 31,
   "metadata": {},
   "outputs": [],
   "source": [
    "# # Convert the categorical columns into numeric\n",
    "# encode_value = le.fit_transform(df.columns)\n",
    "# encode_value"
   ]
  },
  {
   "cell_type": "code",
   "execution_count": 32,
   "metadata": {},
   "outputs": [],
   "source": [
    "# # Convert the categorical columns into numeric\n",
    "# for column in df.columns:\n",
    "#     df[column] = le.fit_transform(df[column])"
   ]
  },
  {
   "cell_type": "code",
   "execution_count": null,
   "metadata": {},
   "outputs": [],
   "source": []
  },
  {
   "cell_type": "code",
   "execution_count": null,
   "metadata": {},
   "outputs": [],
   "source": []
  },
  {
   "cell_type": "markdown",
   "metadata": {},
   "source": [
    "# Sci-Kit-Learn Tutorial"
   ]
  },
  {
   "cell_type": "code",
   "execution_count": 33,
   "metadata": {},
   "outputs": [],
   "source": [
    "from sklearn import preprocessing\n",
    "import pandas as pd\n",
    "from collections import defaultdict\n",
    "import json"
   ]
  },
  {
   "cell_type": "code",
   "execution_count": 34,
   "metadata": {},
   "outputs": [],
   "source": [
    "# Import json file\n",
    "with open('data.json') as f:\n",
    "    data = json.load(f)"
   ]
  },
  {
   "cell_type": "code",
   "execution_count": 35,
   "metadata": {},
   "outputs": [],
   "source": [
    "# Load json file into pandas dataframe\n",
    "#df = pd.read_json('data.json')\n",
    "#df = df.fillna('')"
   ]
  },
  {
   "cell_type": "code",
   "execution_count": 36,
   "metadata": {},
   "outputs": [],
   "source": [
    "X = []\n",
    "Y = []\n",
    "for element in data:\n",
    "    for key in element.keys():\n",
    "        X.append(key)\n",
    "    for value in element.values():\n",
    "        Y.append(value)"
   ]
  },
  {
   "cell_type": "code",
   "execution_count": 37,
   "metadata": {},
   "outputs": [],
   "source": [
    "# Reshap the dataframe to be ['sport', 'col_name']\n",
    "data = pd.DataFrame(X, columns=['sport'])\n",
    "data['col'] = Y\n",
    "data['cop'] = data.sport"
   ]
  },
  {
   "cell_type": "code",
   "execution_count": 38,
   "metadata": {},
   "outputs": [],
   "source": [
    "# data.head()"
   ]
  },
  {
   "cell_type": "code",
   "execution_count": 39,
   "metadata": {},
   "outputs": [],
   "source": [
    "# Create the Labelencoder object\n",
    "le = preprocessing.LabelEncoder()"
   ]
  },
  {
   "cell_type": "code",
   "execution_count": 40,
   "metadata": {},
   "outputs": [],
   "source": [
    "# Convert the categorical columns into numeric\n",
    "encode_value = le.fit_transform(data.columns)\n",
    "# encode_value"
   ]
  },
  {
   "cell_type": "code",
   "execution_count": 41,
   "metadata": {},
   "outputs": [],
   "source": [
    "# Convert the categorical columns into numeric\n",
    "for column in ['sport', 'col']:\n",
    "    data[column] = le.fit_transform(data[column])"
   ]
  },
  {
   "cell_type": "code",
   "execution_count": 42,
   "metadata": {},
   "outputs": [],
   "source": [
    "# data.head()"
   ]
  },
  {
   "cell_type": "code",
   "execution_count": 43,
   "metadata": {},
   "outputs": [],
   "source": [
    "# Create a hashmap of transformed data\n",
    "# {encode_val : \"sport\"}\n",
    "sport_id = {}\n",
    "for name, group in data.groupby(['sport', 'cop']):\n",
    "    sport_id[name[0]] = name[1]"
   ]
  },
  {
   "cell_type": "code",
   "execution_count": 44,
   "metadata": {},
   "outputs": [],
   "source": [
    "# Set the desired output into a separate dataframe\n",
    "target = data.sport"
   ]
  },
  {
   "cell_type": "code",
   "execution_count": 45,
   "metadata": {},
   "outputs": [],
   "source": [
    "# Remove the predictive output from the originial dataset\n",
    "data = data.col"
   ]
  },
  {
   "cell_type": "code",
   "execution_count": 46,
   "metadata": {},
   "outputs": [
    {
     "name": "stderr",
     "output_type": "stream",
     "text": [
      "/anaconda3/lib/python3.6/site-packages/ipykernel_launcher.py:2: FutureWarning: reshape is deprecated and will raise in a subsequent release. Please use .values.reshape(...) instead\n",
      "  \n"
     ]
    }
   ],
   "source": [
    "# Reshape data\n",
    "data = data.reshape(-1, 1)"
   ]
  },
  {
   "cell_type": "code",
   "execution_count": 47,
   "metadata": {},
   "outputs": [],
   "source": [
    "# Train test and split\n",
    "from sklearn.model_selection import train_test_split"
   ]
  },
  {
   "cell_type": "code",
   "execution_count": 48,
   "metadata": {},
   "outputs": [],
   "source": [
    "# Split data set into train and test sets\n",
    "data_train, data_test, target_train, target_test = train_test_split(data, target, test_size = 0.30, random_state = 10)"
   ]
  },
  {
   "cell_type": "markdown",
   "metadata": {},
   "source": [
    "## Naive Bayes"
   ]
  },
  {
   "cell_type": "code",
   "execution_count": 49,
   "metadata": {},
   "outputs": [],
   "source": [
    "# from sklearn.naive_bayes import GaussianNB\n",
    "# from sklearn.metrics import accuracy_score"
   ]
  },
  {
   "cell_type": "code",
   "execution_count": 50,
   "metadata": {},
   "outputs": [],
   "source": [
    "# Create an object of the type GaussianNB\n",
    "# gnb = GaussianNB()"
   ]
  },
  {
   "cell_type": "code",
   "execution_count": 51,
   "metadata": {},
   "outputs": [],
   "source": [
    "# Train the algorithm on training data and predict using the testing data\n",
    "# pred = gnb.fit(data_train, target_train).predict(data_test)"
   ]
  },
  {
   "cell_type": "code",
   "execution_count": 52,
   "metadata": {},
   "outputs": [],
   "source": [
    "# print(\"Naive-Bayes accuracy: \", accuracy_score(target_test, pred, normalize=True))"
   ]
  },
  {
   "cell_type": "markdown",
   "metadata": {},
   "source": [
    "## LinearSVC"
   ]
  },
  {
   "cell_type": "code",
   "execution_count": 53,
   "metadata": {},
   "outputs": [],
   "source": [
    "# from sklearn.svm import LinearSVC\n",
    "# from sklearn.metrics import accuracy_score"
   ]
  },
  {
   "cell_type": "code",
   "execution_count": 54,
   "metadata": {},
   "outputs": [],
   "source": [
    "# Create an object of the type LinearSVC\n",
    "# svc_model = LinearSVC(random_state=0)"
   ]
  },
  {
   "cell_type": "code",
   "execution_count": 55,
   "metadata": {},
   "outputs": [],
   "source": [
    "# Train the algorithm on training data and predict using the testing data\n",
    "# pred = svc_model.fit(data_train, target_train).predict(data_test)"
   ]
  },
  {
   "cell_type": "code",
   "execution_count": 56,
   "metadata": {},
   "outputs": [],
   "source": [
    "# print(\"LinearSVC accuracy: \", accuracy_score(target_test, pred, normalize=True))"
   ]
  },
  {
   "cell_type": "markdown",
   "metadata": {},
   "source": [
    "## K-Neighbors Classifier"
   ]
  },
  {
   "cell_type": "code",
   "execution_count": 57,
   "metadata": {},
   "outputs": [],
   "source": [
    "from sklearn.neighbors import KNeighborsClassifier\n",
    "from sklearn.metrics import accuracy_score"
   ]
  },
  {
   "cell_type": "code",
   "execution_count": 58,
   "metadata": {},
   "outputs": [],
   "source": [
    "# Create object of the classifier\n",
    "neigh = KNeighborsClassifier(n_neighbors=3)"
   ]
  },
  {
   "cell_type": "code",
   "execution_count": 59,
   "metadata": {},
   "outputs": [
    {
     "data": {
      "text/plain": [
       "KNeighborsClassifier(algorithm='auto', leaf_size=30, metric='minkowski',\n",
       "           metric_params=None, n_jobs=1, n_neighbors=3, p=2,\n",
       "           weights='uniform')"
      ]
     },
     "execution_count": 59,
     "metadata": {},
     "output_type": "execute_result"
    }
   ],
   "source": [
    "#Train the algorithm\n",
    "neigh.fit(data_train, target_train)"
   ]
  },
  {
   "cell_type": "code",
   "execution_count": 60,
   "metadata": {},
   "outputs": [],
   "source": [
    "# Predict the response\n",
    "pred = neigh.predict(data_test)"
   ]
  },
  {
   "cell_type": "code",
   "execution_count": 61,
   "metadata": {},
   "outputs": [],
   "source": [
    "# print('KNeighbors accuracy score: ', accuracy_score(target_test, pred))"
   ]
  },
  {
   "cell_type": "markdown",
   "metadata": {},
   "source": [
    "## NB Test"
   ]
  },
  {
   "cell_type": "code",
   "execution_count": 62,
   "metadata": {},
   "outputs": [
    {
     "data": {
      "text/html": [
       "<div>\n",
       "<style scoped>\n",
       "    .dataframe tbody tr th:only-of-type {\n",
       "        vertical-align: middle;\n",
       "    }\n",
       "\n",
       "    .dataframe tbody tr th {\n",
       "        vertical-align: top;\n",
       "    }\n",
       "\n",
       "    .dataframe thead th {\n",
       "        text-align: right;\n",
       "    }\n",
       "</style>\n",
       "<table border=\"1\" class=\"dataframe\">\n",
       "  <thead>\n",
       "    <tr style=\"text-align: right;\">\n",
       "      <th></th>\n",
       "      <th>id</th>\n",
       "      <th>FirstName</th>\n",
       "      <th>LastName</th>\n",
       "      <th>PlayerNumber</th>\n",
       "      <th>TeamName</th>\n",
       "      <th>PlayerPosition</th>\n",
       "      <th>HomeRuns</th>\n",
       "    </tr>\n",
       "  </thead>\n",
       "  <tbody>\n",
       "    <tr>\n",
       "      <th>0</th>\n",
       "      <td>1</td>\n",
       "      <td>Vinny</td>\n",
       "      <td>Wauchope</td>\n",
       "      <td>59</td>\n",
       "      <td>First Nations University of Canada</td>\n",
       "      <td>client-server</td>\n",
       "      <td>581</td>\n",
       "    </tr>\n",
       "    <tr>\n",
       "      <th>1</th>\n",
       "      <td>2</td>\n",
       "      <td>Laina</td>\n",
       "      <td>Cradduck</td>\n",
       "      <td>63</td>\n",
       "      <td>Universidad Torcuato di Tella</td>\n",
       "      <td>Up-sized</td>\n",
       "      <td>253</td>\n",
       "    </tr>\n",
       "    <tr>\n",
       "      <th>2</th>\n",
       "      <td>3</td>\n",
       "      <td>Erwin</td>\n",
       "      <td>Matei</td>\n",
       "      <td>74</td>\n",
       "      <td>Universidad Peruana Union</td>\n",
       "      <td>clear-thinking</td>\n",
       "      <td>415</td>\n",
       "    </tr>\n",
       "    <tr>\n",
       "      <th>3</th>\n",
       "      <td>4</td>\n",
       "      <td>Shea</td>\n",
       "      <td>Dubery</td>\n",
       "      <td>97</td>\n",
       "      <td>Fachhochschule Gießen-Friedberg</td>\n",
       "      <td>maximized</td>\n",
       "      <td>648</td>\n",
       "    </tr>\n",
       "    <tr>\n",
       "      <th>4</th>\n",
       "      <td>5</td>\n",
       "      <td>Eolanda</td>\n",
       "      <td>Jobbins</td>\n",
       "      <td>57</td>\n",
       "      <td>Ho Chi Minh City University of Agriculture and...</td>\n",
       "      <td>Quality-focused</td>\n",
       "      <td>64</td>\n",
       "    </tr>\n",
       "  </tbody>\n",
       "</table>\n",
       "</div>"
      ],
      "text/plain": [
       "   id FirstName  LastName  PlayerNumber  \\\n",
       "0   1     Vinny  Wauchope            59   \n",
       "1   2     Laina  Cradduck            63   \n",
       "2   3     Erwin     Matei            74   \n",
       "3   4      Shea    Dubery            97   \n",
       "4   5   Eolanda   Jobbins            57   \n",
       "\n",
       "                                            TeamName   PlayerPosition  \\\n",
       "0                 First Nations University of Canada    client-server   \n",
       "1                      Universidad Torcuato di Tella         Up-sized   \n",
       "2                          Universidad Peruana Union   clear-thinking   \n",
       "3                    Fachhochschule Gießen-Friedberg        maximized   \n",
       "4  Ho Chi Minh City University of Agriculture and...  Quality-focused   \n",
       "\n",
       "   HomeRuns  \n",
       "0       581  \n",
       "1       253  \n",
       "2       415  \n",
       "3       648  \n",
       "4        64  "
      ]
     },
     "execution_count": 62,
     "metadata": {},
     "output_type": "execute_result"
    }
   ],
   "source": [
    "df = pd.read_csv('../../../Downloads/MOCK_DATA_ALT_COLUMN_NAMES.csv')\n",
    "cols = df.columns\n",
    "df.head()"
   ]
  },
  {
   "cell_type": "code",
   "execution_count": 63,
   "metadata": {},
   "outputs": [
    {
     "data": {
      "text/plain": [
       "array([6, 0, 2, 3, 5, 4, 1])"
      ]
     },
     "execution_count": 63,
     "metadata": {},
     "output_type": "execute_result"
    }
   ],
   "source": [
    "# Convert the categorical columns into numeric\n",
    "encode_value = le.fit_transform(cols)\n",
    "encode_value"
   ]
  },
  {
   "cell_type": "code",
   "execution_count": 64,
   "metadata": {},
   "outputs": [],
   "source": [
    "# Reshape data\n",
    "encode_value = encode_value.reshape(-1, 1)\n",
    "#encode_value"
   ]
  },
  {
   "cell_type": "code",
   "execution_count": 65,
   "metadata": {},
   "outputs": [],
   "source": [
    "# Train the algorithm on training data and predict using the testing data\n",
    "# pred = gnb.fit(data_train, target_train).predict(encode_value)"
   ]
  },
  {
   "cell_type": "code",
   "execution_count": 66,
   "metadata": {},
   "outputs": [],
   "source": [
    "# sport_id[max(pred)]"
   ]
  },
  {
   "cell_type": "markdown",
   "metadata": {},
   "source": [
    "Naive Bayes predicts soccer when it should be baseball"
   ]
  },
  {
   "cell_type": "markdown",
   "metadata": {},
   "source": [
    "## LinearSVC test"
   ]
  },
  {
   "cell_type": "code",
   "execution_count": 67,
   "metadata": {},
   "outputs": [],
   "source": [
    "# pred = svc_model.fit(data_train, target_train).predict(encode_value)"
   ]
  },
  {
   "cell_type": "code",
   "execution_count": 68,
   "metadata": {},
   "outputs": [],
   "source": [
    "# sport_id[max(pred)]"
   ]
  },
  {
   "cell_type": "markdown",
   "metadata": {},
   "source": [
    "Linear SVC predicts soccer when it should be baseball"
   ]
  },
  {
   "cell_type": "markdown",
   "metadata": {},
   "source": [
    "## K-Nearest test"
   ]
  },
  {
   "cell_type": "code",
   "execution_count": 69,
   "metadata": {},
   "outputs": [],
   "source": [
    "neigh = KNeighborsClassifier(n_neighbors=4)"
   ]
  },
  {
   "cell_type": "code",
   "execution_count": 70,
   "metadata": {},
   "outputs": [],
   "source": [
    "pred = neigh.fit(data_train, target_train).predict(encode_value)"
   ]
  },
  {
   "cell_type": "code",
   "execution_count": 71,
   "metadata": {},
   "outputs": [],
   "source": [
    "predicted_sport = sport_id[max(pred)]\n",
    "#predicted_sport"
   ]
  },
  {
   "cell_type": "code",
   "execution_count": 72,
   "metadata": {},
   "outputs": [],
   "source": [
    "df['sport_class'] = predicted_sport"
   ]
  },
  {
   "cell_type": "code",
   "execution_count": 73,
   "metadata": {},
   "outputs": [
    {
     "data": {
      "text/html": [
       "<div>\n",
       "<style scoped>\n",
       "    .dataframe tbody tr th:only-of-type {\n",
       "        vertical-align: middle;\n",
       "    }\n",
       "\n",
       "    .dataframe tbody tr th {\n",
       "        vertical-align: top;\n",
       "    }\n",
       "\n",
       "    .dataframe thead th {\n",
       "        text-align: right;\n",
       "    }\n",
       "</style>\n",
       "<table border=\"1\" class=\"dataframe\">\n",
       "  <thead>\n",
       "    <tr style=\"text-align: right;\">\n",
       "      <th></th>\n",
       "      <th>id</th>\n",
       "      <th>FirstName</th>\n",
       "      <th>LastName</th>\n",
       "      <th>PlayerNumber</th>\n",
       "      <th>TeamName</th>\n",
       "      <th>PlayerPosition</th>\n",
       "      <th>HomeRuns</th>\n",
       "      <th>sport_class</th>\n",
       "    </tr>\n",
       "  </thead>\n",
       "  <tbody>\n",
       "    <tr>\n",
       "      <th>0</th>\n",
       "      <td>1</td>\n",
       "      <td>Vinny</td>\n",
       "      <td>Wauchope</td>\n",
       "      <td>59</td>\n",
       "      <td>First Nations University of Canada</td>\n",
       "      <td>client-server</td>\n",
       "      <td>581</td>\n",
       "      <td>football</td>\n",
       "    </tr>\n",
       "    <tr>\n",
       "      <th>1</th>\n",
       "      <td>2</td>\n",
       "      <td>Laina</td>\n",
       "      <td>Cradduck</td>\n",
       "      <td>63</td>\n",
       "      <td>Universidad Torcuato di Tella</td>\n",
       "      <td>Up-sized</td>\n",
       "      <td>253</td>\n",
       "      <td>football</td>\n",
       "    </tr>\n",
       "    <tr>\n",
       "      <th>2</th>\n",
       "      <td>3</td>\n",
       "      <td>Erwin</td>\n",
       "      <td>Matei</td>\n",
       "      <td>74</td>\n",
       "      <td>Universidad Peruana Union</td>\n",
       "      <td>clear-thinking</td>\n",
       "      <td>415</td>\n",
       "      <td>football</td>\n",
       "    </tr>\n",
       "    <tr>\n",
       "      <th>3</th>\n",
       "      <td>4</td>\n",
       "      <td>Shea</td>\n",
       "      <td>Dubery</td>\n",
       "      <td>97</td>\n",
       "      <td>Fachhochschule Gießen-Friedberg</td>\n",
       "      <td>maximized</td>\n",
       "      <td>648</td>\n",
       "      <td>football</td>\n",
       "    </tr>\n",
       "    <tr>\n",
       "      <th>4</th>\n",
       "      <td>5</td>\n",
       "      <td>Eolanda</td>\n",
       "      <td>Jobbins</td>\n",
       "      <td>57</td>\n",
       "      <td>Ho Chi Minh City University of Agriculture and...</td>\n",
       "      <td>Quality-focused</td>\n",
       "      <td>64</td>\n",
       "      <td>football</td>\n",
       "    </tr>\n",
       "  </tbody>\n",
       "</table>\n",
       "</div>"
      ],
      "text/plain": [
       "   id FirstName  LastName  PlayerNumber  \\\n",
       "0   1     Vinny  Wauchope            59   \n",
       "1   2     Laina  Cradduck            63   \n",
       "2   3     Erwin     Matei            74   \n",
       "3   4      Shea    Dubery            97   \n",
       "4   5   Eolanda   Jobbins            57   \n",
       "\n",
       "                                            TeamName   PlayerPosition  \\\n",
       "0                 First Nations University of Canada    client-server   \n",
       "1                      Universidad Torcuato di Tella         Up-sized   \n",
       "2                          Universidad Peruana Union   clear-thinking   \n",
       "3                    Fachhochschule Gießen-Friedberg        maximized   \n",
       "4  Ho Chi Minh City University of Agriculture and...  Quality-focused   \n",
       "\n",
       "   HomeRuns sport_class  \n",
       "0       581    football  \n",
       "1       253    football  \n",
       "2       415    football  \n",
       "3       648    football  \n",
       "4        64    football  "
      ]
     },
     "execution_count": 73,
     "metadata": {},
     "output_type": "execute_result"
    }
   ],
   "source": [
    "df.head()"
   ]
  },
  {
   "cell_type": "markdown",
   "metadata": {},
   "source": [
    "k-nearest predicts football instead of baseball"
   ]
  },
  {
   "cell_type": "markdown",
   "metadata": {},
   "source": [
    "# Overall, LabelEncoder is a poor string -> integer converter\n",
    "## Attempting HashingVectorizer"
   ]
  },
  {
   "cell_type": "code",
   "execution_count": 74,
   "metadata": {},
   "outputs": [],
   "source": [
    "# from sklearn.feature_extraction.text import HashingVectorizer"
   ]
  },
  {
   "cell_type": "code",
   "execution_count": 75,
   "metadata": {},
   "outputs": [],
   "source": [
    "# Import json file\n",
    "# with open('project/data.json') as f:\n",
    "#     data = json.load(f)"
   ]
  },
  {
   "cell_type": "code",
   "execution_count": 76,
   "metadata": {},
   "outputs": [],
   "source": [
    "# X = []\n",
    "# Y = []\n",
    "# for element in data:\n",
    "#     for key in element.keys():\n",
    "#         X.append(key)\n",
    "#     for value in element.values():\n",
    "#         Y.append(value)"
   ]
  },
  {
   "cell_type": "code",
   "execution_count": 77,
   "metadata": {},
   "outputs": [],
   "source": [
    "# # Reshap the dataframe to be ['sport', 'col_name']\n",
    "# data = pd.DataFrame(X, columns=['sport'])\n",
    "# data['col'] = Y\n",
    "# data['cop'] = data.sport"
   ]
  },
  {
   "cell_type": "code",
   "execution_count": 78,
   "metadata": {},
   "outputs": [],
   "source": [
    "# data.head()"
   ]
  },
  {
   "cell_type": "code",
   "execution_count": 79,
   "metadata": {},
   "outputs": [],
   "source": [
    "# # Hashing Vectorizer\n",
    "# vectorizer = HashingVectorizer(n_features=2**4)\n",
    "# data.cop = vectorizer.fit_transform(data.col)"
   ]
  },
  {
   "cell_type": "code",
   "execution_count": 80,
   "metadata": {},
   "outputs": [],
   "source": [
    "# # Set the desired output into a separate dataframe\n",
    "# target = data.sport"
   ]
  },
  {
   "cell_type": "code",
   "execution_count": 81,
   "metadata": {},
   "outputs": [],
   "source": [
    "# # Remove the predictive output from the originial dataset\n",
    "# #data = data.cop\n",
    "# cop = data.cop"
   ]
  },
  {
   "cell_type": "code",
   "execution_count": 82,
   "metadata": {},
   "outputs": [],
   "source": [
    "# # Reshape data\n",
    "# cop = cop.reshape(-1, 1)"
   ]
  },
  {
   "cell_type": "code",
   "execution_count": 83,
   "metadata": {},
   "outputs": [],
   "source": [
    "# # Split data set into train and test sets\n",
    "# data_train, data_test, target_train, target_test = train_test_split(cop, target, test_size = 0.30, random_state = 10)"
   ]
  },
  {
   "cell_type": "markdown",
   "metadata": {},
   "source": [
    "### Naive Bayes"
   ]
  },
  {
   "cell_type": "code",
   "execution_count": 84,
   "metadata": {},
   "outputs": [],
   "source": [
    "# # Train the algorithm on training data and predict using the testing data\n",
    "# pred = gnb.fit(data_train, target_train).predict(data_test)"
   ]
  },
  {
   "cell_type": "markdown",
   "metadata": {},
   "source": [
    "### After talking with MarkLogic, we will have the user configure the uploaded datasets to confirm important column names.\n",
    "* We also need to review data.json and choose important and unique column names for each sport.\n",
    "* Consider using 10 column names per sport to start"
   ]
  },
  {
   "cell_type": "code",
   "execution_count": 85,
   "metadata": {},
   "outputs": [],
   "source": [
    "import json\n",
    "dic = {}\n",
    "dic['filename'] = ['col1', 'col2', 'col3']\n",
    "#dic['file2'] = ['cola', 'colb', 'colc']"
   ]
  },
  {
   "cell_type": "code",
   "execution_count": 86,
   "metadata": {},
   "outputs": [],
   "source": [
    "j = json.dumps(dic)"
   ]
  },
  {
   "cell_type": "code",
   "execution_count": 87,
   "metadata": {},
   "outputs": [
    {
     "data": {
      "text/plain": [
       "'{\"filename\": [\"col1\", \"col2\", \"col3\"]}'"
      ]
     },
     "execution_count": 87,
     "metadata": {},
     "output_type": "execute_result"
    }
   ],
   "source": [
    "j"
   ]
  },
  {
   "cell_type": "code",
   "execution_count": 88,
   "metadata": {},
   "outputs": [
    {
     "data": {
      "text/plain": [
       "{'filename': ['col1', 'col2', 'col3']}"
      ]
     },
     "execution_count": 88,
     "metadata": {},
     "output_type": "execute_result"
    }
   ],
   "source": [
    "json_data = json.loads(j)\n",
    "json_data"
   ]
  },
  {
   "cell_type": "code",
   "execution_count": 89,
   "metadata": {},
   "outputs": [
    {
     "ename": "IndentationError",
     "evalue": "expected an indented block (<ipython-input-89-85911201d1a2>, line 5)",
     "output_type": "error",
     "traceback": [
      "\u001b[0;36m  File \u001b[0;32m\"<ipython-input-89-85911201d1a2>\"\u001b[0;36m, line \u001b[0;32m5\u001b[0m\n\u001b[0;31m    Y\u001b[0m\n\u001b[0m     ^\u001b[0m\n\u001b[0;31mIndentationError\u001b[0m\u001b[0;31m:\u001b[0m expected an indented block\n"
     ]
    }
   ],
   "source": [
    "Y = []\n",
    "for e in json_data:\n",
    "    for a in json_data[e]:\n",
    "        \n",
    "Y"
   ]
  },
  {
   "cell_type": "code",
   "execution_count": 90,
   "metadata": {},
   "outputs": [
    {
     "data": {
      "text/html": [
       "<div>\n",
       "<style scoped>\n",
       "    .dataframe tbody tr th:only-of-type {\n",
       "        vertical-align: middle;\n",
       "    }\n",
       "\n",
       "    .dataframe tbody tr th {\n",
       "        vertical-align: top;\n",
       "    }\n",
       "\n",
       "    .dataframe thead th {\n",
       "        text-align: right;\n",
       "    }\n",
       "</style>\n",
       "<table border=\"1\" class=\"dataframe\">\n",
       "  <thead>\n",
       "    <tr style=\"text-align: right;\">\n",
       "      <th></th>\n",
       "      <th>id</th>\n",
       "      <th>FirstName</th>\n",
       "      <th>LastName</th>\n",
       "      <th>PlayerNumber</th>\n",
       "      <th>TeamName</th>\n",
       "      <th>PlayerPosition</th>\n",
       "      <th>HomeRuns</th>\n",
       "      <th>sport_class</th>\n",
       "    </tr>\n",
       "  </thead>\n",
       "  <tbody>\n",
       "    <tr>\n",
       "      <th>0</th>\n",
       "      <td>1</td>\n",
       "      <td>Vinny</td>\n",
       "      <td>Wauchope</td>\n",
       "      <td>59</td>\n",
       "      <td>First Nations University of Canada</td>\n",
       "      <td>client-server</td>\n",
       "      <td>581</td>\n",
       "      <td>football</td>\n",
       "    </tr>\n",
       "    <tr>\n",
       "      <th>1</th>\n",
       "      <td>2</td>\n",
       "      <td>Laina</td>\n",
       "      <td>Cradduck</td>\n",
       "      <td>63</td>\n",
       "      <td>Universidad Torcuato di Tella</td>\n",
       "      <td>Up-sized</td>\n",
       "      <td>253</td>\n",
       "      <td>football</td>\n",
       "    </tr>\n",
       "    <tr>\n",
       "      <th>2</th>\n",
       "      <td>3</td>\n",
       "      <td>Erwin</td>\n",
       "      <td>Matei</td>\n",
       "      <td>74</td>\n",
       "      <td>Universidad Peruana Union</td>\n",
       "      <td>clear-thinking</td>\n",
       "      <td>415</td>\n",
       "      <td>football</td>\n",
       "    </tr>\n",
       "    <tr>\n",
       "      <th>3</th>\n",
       "      <td>4</td>\n",
       "      <td>Shea</td>\n",
       "      <td>Dubery</td>\n",
       "      <td>97</td>\n",
       "      <td>Fachhochschule Gießen-Friedberg</td>\n",
       "      <td>maximized</td>\n",
       "      <td>648</td>\n",
       "      <td>football</td>\n",
       "    </tr>\n",
       "    <tr>\n",
       "      <th>4</th>\n",
       "      <td>5</td>\n",
       "      <td>Eolanda</td>\n",
       "      <td>Jobbins</td>\n",
       "      <td>57</td>\n",
       "      <td>Ho Chi Minh City University of Agriculture and...</td>\n",
       "      <td>Quality-focused</td>\n",
       "      <td>64</td>\n",
       "      <td>football</td>\n",
       "    </tr>\n",
       "  </tbody>\n",
       "</table>\n",
       "</div>"
      ],
      "text/plain": [
       "   id FirstName  LastName  PlayerNumber  \\\n",
       "0   1     Vinny  Wauchope            59   \n",
       "1   2     Laina  Cradduck            63   \n",
       "2   3     Erwin     Matei            74   \n",
       "3   4      Shea    Dubery            97   \n",
       "4   5   Eolanda   Jobbins            57   \n",
       "\n",
       "                                            TeamName   PlayerPosition  \\\n",
       "0                 First Nations University of Canada    client-server   \n",
       "1                      Universidad Torcuato di Tella         Up-sized   \n",
       "2                          Universidad Peruana Union   clear-thinking   \n",
       "3                    Fachhochschule Gießen-Friedberg        maximized   \n",
       "4  Ho Chi Minh City University of Agriculture and...  Quality-focused   \n",
       "\n",
       "   HomeRuns sport_class  \n",
       "0       581    football  \n",
       "1       253    football  \n",
       "2       415    football  \n",
       "3       648    football  \n",
       "4        64    football  "
      ]
     },
     "execution_count": 90,
     "metadata": {},
     "output_type": "execute_result"
    }
   ],
   "source": [
    "df.head()"
   ]
  },
  {
   "cell_type": "code",
   "execution_count": 91,
   "metadata": {},
   "outputs": [
    {
     "data": {
      "text/plain": [
       "100"
      ]
     },
     "execution_count": 91,
     "metadata": {},
     "output_type": "execute_result"
    }
   ],
   "source": [
    "rows = df.shape[0]\n",
    "rows"
   ]
  },
  {
   "cell_type": "code",
   "execution_count": 92,
   "metadata": {},
   "outputs": [
    {
     "data": {
      "text/plain": [
       "Index(['id', 'FirstName', 'LastName', 'PlayerNumber', 'TeamName',\n",
       "       'PlayerPosition', 'HomeRuns', 'sport_class'],\n",
       "      dtype='object')"
      ]
     },
     "execution_count": 92,
     "metadata": {},
     "output_type": "execute_result"
    }
   ],
   "source": [
    "columns = df.columns\n",
    "columns"
   ]
  },
  {
   "cell_type": "code",
   "execution_count": null,
   "metadata": {},
   "outputs": [],
   "source": [
    "# for c in columns:\n",
    "#     if df[c].dtypes\n",
    "# df['Customer Number'].astype('int')"
   ]
  },
  {
   "cell_type": "code",
   "execution_count": 117,
   "metadata": {},
   "outputs": [
    {
     "data": {
      "text/plain": [
       "[{'FirstName': 'Vinny',\n",
       "  'HomeRuns': 581,\n",
       "  'LastName': 'Wauchope',\n",
       "  'PlayerNumber': 59,\n",
       "  'PlayerPosition': 'client-server',\n",
       "  'TeamName': 'First Nations University of Canada',\n",
       "  'id': 1,\n",
       "  'sport_class': 'football'},\n",
       " {'FirstName': 'Laina',\n",
       "  'HomeRuns': 253,\n",
       "  'LastName': 'Cradduck',\n",
       "  'PlayerNumber': 63,\n",
       "  'PlayerPosition': 'Up-sized',\n",
       "  'TeamName': 'Universidad Torcuato di Tella',\n",
       "  'id': 2,\n",
       "  'sport_class': 'football'},\n",
       " {'FirstName': 'Erwin',\n",
       "  'HomeRuns': 415,\n",
       "  'LastName': 'Matei',\n",
       "  'PlayerNumber': 74,\n",
       "  'PlayerPosition': 'clear-thinking',\n",
       "  'TeamName': 'Universidad Peruana Union',\n",
       "  'id': 3,\n",
       "  'sport_class': 'football'},\n",
       " {'FirstName': 'Shea',\n",
       "  'HomeRuns': 648,\n",
       "  'LastName': 'Dubery',\n",
       "  'PlayerNumber': 97,\n",
       "  'PlayerPosition': 'maximized',\n",
       "  'TeamName': 'Fachhochschule Gießen-Friedberg',\n",
       "  'id': 4,\n",
       "  'sport_class': 'football'},\n",
       " {'FirstName': 'Eolanda',\n",
       "  'HomeRuns': 64,\n",
       "  'LastName': 'Jobbins',\n",
       "  'PlayerNumber': 57,\n",
       "  'PlayerPosition': 'Quality-focused',\n",
       "  'TeamName': 'Ho Chi Minh City University of Agriculture and Forestry',\n",
       "  'id': 5,\n",
       "  'sport_class': 'football'},\n",
       " {'FirstName': 'Simonne',\n",
       "  'HomeRuns': 792,\n",
       "  'LastName': 'Pluck',\n",
       "  'PlayerNumber': 30,\n",
       "  'PlayerPosition': 'artificial intelligence',\n",
       "  'TeamName': 'University of Wisconsin - Superior',\n",
       "  'id': 6,\n",
       "  'sport_class': 'football'},\n",
       " {'FirstName': 'Adele',\n",
       "  'HomeRuns': 323,\n",
       "  'LastName': 'Lightowler',\n",
       "  'PlayerNumber': 17,\n",
       "  'PlayerPosition': 'object-oriented',\n",
       "  'TeamName': 'Dallas Baptist University',\n",
       "  'id': 7,\n",
       "  'sport_class': 'football'},\n",
       " {'FirstName': 'Emmy',\n",
       "  'HomeRuns': 295,\n",
       "  'LastName': 'Arthurs',\n",
       "  'PlayerNumber': 18,\n",
       "  'PlayerPosition': 'homogeneous',\n",
       "  'TeamName': 'Western Baptist College',\n",
       "  'id': 8,\n",
       "  'sport_class': 'football'},\n",
       " {'FirstName': 'Jefferey',\n",
       "  'HomeRuns': 265,\n",
       "  'LastName': 'Daughton',\n",
       "  'PlayerNumber': 24,\n",
       "  'PlayerPosition': 'zero tolerance',\n",
       "  'TeamName': 'Ohio University - Eastern',\n",
       "  'id': 9,\n",
       "  'sport_class': 'football'},\n",
       " {'FirstName': 'Lucien',\n",
       "  'HomeRuns': 87,\n",
       "  'LastName': 'Augustus',\n",
       "  'PlayerNumber': 55,\n",
       "  'PlayerPosition': 'ability',\n",
       "  'TeamName': 'Royal Melbourne Institute of Technology',\n",
       "  'id': 10,\n",
       "  'sport_class': 'football'},\n",
       " {'FirstName': 'Shayne',\n",
       "  'HomeRuns': 289,\n",
       "  'LastName': 'Juschke',\n",
       "  'PlayerNumber': 9,\n",
       "  'PlayerPosition': 'systematic',\n",
       "  'TeamName': 'Islamic Azad University, Bandar Abbas',\n",
       "  'id': 11,\n",
       "  'sport_class': 'football'},\n",
       " {'FirstName': 'Basil',\n",
       "  'HomeRuns': 699,\n",
       "  'LastName': 'Auchinleck',\n",
       "  'PlayerNumber': 65,\n",
       "  'PlayerPosition': 'context-sensitive',\n",
       "  'TeamName': 'Mahidol University',\n",
       "  'id': 12,\n",
       "  'sport_class': 'football'},\n",
       " {'FirstName': 'Ashil',\n",
       "  'HomeRuns': 249,\n",
       "  'LastName': 'Westmarland',\n",
       "  'PlayerNumber': 52,\n",
       "  'PlayerPosition': 'well-modulated',\n",
       "  'TeamName': 'Njala University',\n",
       "  'id': 13,\n",
       "  'sport_class': 'football'},\n",
       " {'FirstName': 'Edmund',\n",
       "  'HomeRuns': 890,\n",
       "  'LastName': 'Maund',\n",
       "  'PlayerNumber': 74,\n",
       "  'PlayerPosition': 'didactic',\n",
       "  'TeamName': 'Sabanci University',\n",
       "  'id': 14,\n",
       "  'sport_class': 'football'},\n",
       " {'FirstName': 'Sholom',\n",
       "  'HomeRuns': 509,\n",
       "  'LastName': 'Waterhouse',\n",
       "  'PlayerNumber': 18,\n",
       "  'PlayerPosition': 'Cross-platform',\n",
       "  'TeamName': 'Université Shalom de Bunia',\n",
       "  'id': 15,\n",
       "  'sport_class': 'football'},\n",
       " {'FirstName': 'Noni',\n",
       "  'HomeRuns': 202,\n",
       "  'LastName': 'Hollier',\n",
       "  'PlayerNumber': 56,\n",
       "  'PlayerPosition': 'Fundamental',\n",
       "  'TeamName': 'Technological Education Institute of Athens',\n",
       "  'id': 16,\n",
       "  'sport_class': 'football'},\n",
       " {'FirstName': 'Eleanore',\n",
       "  'HomeRuns': 9,\n",
       "  'LastName': 'Meenehan',\n",
       "  'PlayerNumber': 20,\n",
       "  'PlayerPosition': 'Multi-layered',\n",
       "  'TeamName': 'Université de Sfax',\n",
       "  'id': 17,\n",
       "  'sport_class': 'football'},\n",
       " {'FirstName': 'Lethia',\n",
       "  'HomeRuns': 818,\n",
       "  'LastName': 'Trinbey',\n",
       "  'PlayerNumber': 9,\n",
       "  'PlayerPosition': 'Secured',\n",
       "  'TeamName': 'Gulf Medical University',\n",
       "  'id': 18,\n",
       "  'sport_class': 'football'},\n",
       " {'FirstName': 'Kaitlynn',\n",
       "  'HomeRuns': 964,\n",
       "  'LastName': 'Deacon',\n",
       "  'PlayerNumber': 33,\n",
       "  'PlayerPosition': 'attitude-oriented',\n",
       "  'TeamName': 'Technological University (Sittwe)',\n",
       "  'id': 19,\n",
       "  'sport_class': 'football'},\n",
       " {'FirstName': 'Ania',\n",
       "  'HomeRuns': 4,\n",
       "  'LastName': 'Varlow',\n",
       "  'PlayerNumber': 5,\n",
       "  'PlayerPosition': 'Managed',\n",
       "  'TeamName': 'New York School of Interior Design',\n",
       "  'id': 20,\n",
       "  'sport_class': 'football'},\n",
       " {'FirstName': 'Freda',\n",
       "  'HomeRuns': 429,\n",
       "  'LastName': 'McNickle',\n",
       "  'PlayerNumber': 54,\n",
       "  'PlayerPosition': 'Ameliorated',\n",
       "  'TeamName': 'Olivet College',\n",
       "  'id': 21,\n",
       "  'sport_class': 'football'},\n",
       " {'FirstName': 'Karna',\n",
       "  'HomeRuns': 676,\n",
       "  'LastName': 'Alsobrook',\n",
       "  'PlayerNumber': 10,\n",
       "  'PlayerPosition': 'Advanced',\n",
       "  'TeamName': 'Saratov State Socio-Economic University',\n",
       "  'id': 22,\n",
       "  'sport_class': 'football'},\n",
       " {'FirstName': 'Binnie',\n",
       "  'HomeRuns': 844,\n",
       "  'LastName': 'Stretton',\n",
       "  'PlayerNumber': 97,\n",
       "  'PlayerPosition': 'responsive',\n",
       "  'TeamName': 'Université de Kikwite',\n",
       "  'id': 23,\n",
       "  'sport_class': 'football'},\n",
       " {'FirstName': 'Bridget',\n",
       "  'HomeRuns': 71,\n",
       "  'LastName': 'Benza',\n",
       "  'PlayerNumber': 50,\n",
       "  'PlayerPosition': 'bifurcated',\n",
       "  'TeamName': 'Universidad Autónoma de Occidente',\n",
       "  'id': 24,\n",
       "  'sport_class': 'football'},\n",
       " {'FirstName': 'Gabriello',\n",
       "  'HomeRuns': 419,\n",
       "  'LastName': 'Huster',\n",
       "  'PlayerNumber': 78,\n",
       "  'PlayerPosition': 'zero tolerance',\n",
       "  'TeamName': 'Universidad Nacional Agraria La Molina',\n",
       "  'id': 25,\n",
       "  'sport_class': 'football'},\n",
       " {'FirstName': 'Clari',\n",
       "  'HomeRuns': 882,\n",
       "  'LastName': 'Churm',\n",
       "  'PlayerNumber': 29,\n",
       "  'PlayerPosition': 'high-level',\n",
       "  'TeamName': 'Fort Hays State University',\n",
       "  'id': 26,\n",
       "  'sport_class': 'football'},\n",
       " {'FirstName': 'Viva',\n",
       "  'HomeRuns': 607,\n",
       "  'LastName': 'McLeod',\n",
       "  'PlayerNumber': 7,\n",
       "  'PlayerPosition': 'tertiary',\n",
       "  'TeamName': 'Hochschule Bremerhaven',\n",
       "  'id': 27,\n",
       "  'sport_class': 'football'},\n",
       " {'FirstName': 'Eamon',\n",
       "  'HomeRuns': 992,\n",
       "  'LastName': 'Moncaster',\n",
       "  'PlayerNumber': 30,\n",
       "  'PlayerPosition': 'next generation',\n",
       "  'TeamName': 'Ecole Supérieure de Commerce de Lille',\n",
       "  'id': 28,\n",
       "  'sport_class': 'football'},\n",
       " {'FirstName': 'Isa',\n",
       "  'HomeRuns': 721,\n",
       "  'LastName': 'Tuxsell',\n",
       "  'PlayerNumber': 89,\n",
       "  'PlayerPosition': 'Graphical User Interface',\n",
       "  'TeamName': 'Union University',\n",
       "  'id': 29,\n",
       "  'sport_class': 'football'},\n",
       " {'FirstName': 'Donnie',\n",
       "  'HomeRuns': 718,\n",
       "  'LastName': 'Foote',\n",
       "  'PlayerNumber': 45,\n",
       "  'PlayerPosition': 'hybrid',\n",
       "  'TeamName': 'Hankuk University of Foreign Studies',\n",
       "  'id': 30,\n",
       "  'sport_class': 'football'},\n",
       " {'FirstName': 'Davide',\n",
       "  'HomeRuns': 180,\n",
       "  'LastName': 'Emblem',\n",
       "  'PlayerNumber': 2,\n",
       "  'PlayerPosition': 'internet solution',\n",
       "  'TeamName': 'Southern Utah University',\n",
       "  'id': 31,\n",
       "  'sport_class': 'football'},\n",
       " {'FirstName': 'Galina',\n",
       "  'HomeRuns': 116,\n",
       "  'LastName': 'Sibun',\n",
       "  'PlayerNumber': 82,\n",
       "  'PlayerPosition': 'grid-enabled',\n",
       "  'TeamName': 'Dalian University of Technology',\n",
       "  'id': 32,\n",
       "  'sport_class': 'football'},\n",
       " {'FirstName': 'Raffarty',\n",
       "  'HomeRuns': 688,\n",
       "  'LastName': 'Burdfield',\n",
       "  'PlayerNumber': 83,\n",
       "  'PlayerPosition': 'web-enabled',\n",
       "  'TeamName': 'Theologische Fakultät Paderborn',\n",
       "  'id': 33,\n",
       "  'sport_class': 'football'},\n",
       " {'FirstName': 'Doralyn',\n",
       "  'HomeRuns': 70,\n",
       "  'LastName': 'Takle',\n",
       "  'PlayerNumber': 40,\n",
       "  'PlayerPosition': 'analyzer',\n",
       "  'TeamName': 'Instituto Tecnologico de Durango',\n",
       "  'id': 34,\n",
       "  'sport_class': 'football'},\n",
       " {'FirstName': 'Beauregard',\n",
       "  'HomeRuns': 60,\n",
       "  'LastName': 'Fatharly',\n",
       "  'PlayerNumber': 69,\n",
       "  'PlayerPosition': 'Cross-platform',\n",
       "  'TeamName': 'Polytechnic Institute of Milan',\n",
       "  'id': 35,\n",
       "  'sport_class': 'football'},\n",
       " {'FirstName': 'Garfield',\n",
       "  'HomeRuns': 698,\n",
       "  'LastName': 'Harwood',\n",
       "  'PlayerNumber': 20,\n",
       "  'PlayerPosition': 'zero defect',\n",
       "  'TeamName': 'Universidad de Costa Rica',\n",
       "  'id': 36,\n",
       "  'sport_class': 'football'},\n",
       " {'FirstName': 'Olympe',\n",
       "  'HomeRuns': 393,\n",
       "  'LastName': 'Kertess',\n",
       "  'PlayerNumber': 47,\n",
       "  'PlayerPosition': 'solution',\n",
       "  'TeamName': 'Universidad Autónoma del Beni \"José Ballivián\"',\n",
       "  'id': 37,\n",
       "  'sport_class': 'football'},\n",
       " {'FirstName': 'Angela',\n",
       "  'HomeRuns': 380,\n",
       "  'LastName': 'Rymmer',\n",
       "  'PlayerNumber': 75,\n",
       "  'PlayerPosition': 'conglomeration',\n",
       "  'TeamName': 'DeVry Institute of Technology',\n",
       "  'id': 38,\n",
       "  'sport_class': 'football'},\n",
       " {'FirstName': 'Stefa',\n",
       "  'HomeRuns': 804,\n",
       "  'LastName': 'Nurdin',\n",
       "  'PlayerNumber': 33,\n",
       "  'PlayerPosition': 'Robust',\n",
       "  'TeamName': 'University of Manchester',\n",
       "  'id': 39,\n",
       "  'sport_class': 'football'},\n",
       " {'FirstName': 'Dru',\n",
       "  'HomeRuns': 401,\n",
       "  'LastName': 'Miliffe',\n",
       "  'PlayerNumber': 23,\n",
       "  'PlayerPosition': 'firmware',\n",
       "  'TeamName': 'Escola Nautica Infante D. Henrique',\n",
       "  'id': 40,\n",
       "  'sport_class': 'football'},\n",
       " {'FirstName': 'Cybill',\n",
       "  'HomeRuns': 34,\n",
       "  'LastName': 'Beasant',\n",
       "  'PlayerNumber': 52,\n",
       "  'PlayerPosition': 'asymmetric',\n",
       "  'TeamName': 'Universidad Nacional de Córdoba',\n",
       "  'id': 41,\n",
       "  'sport_class': 'football'},\n",
       " {'FirstName': 'Ashleigh',\n",
       "  'HomeRuns': 571,\n",
       "  'LastName': 'Onions',\n",
       "  'PlayerNumber': 56,\n",
       "  'PlayerPosition': 'next generation',\n",
       "  'TeamName': 'American University of Tirana',\n",
       "  'id': 42,\n",
       "  'sport_class': 'football'},\n",
       " {'FirstName': 'Aubrie',\n",
       "  'HomeRuns': 497,\n",
       "  'LastName': 'Race',\n",
       "  'PlayerNumber': 60,\n",
       "  'PlayerPosition': 'explicit',\n",
       "  'TeamName': 'Russian Customs Academy, Vladivostok Branch',\n",
       "  'id': 43,\n",
       "  'sport_class': 'football'},\n",
       " {'FirstName': 'Rubi',\n",
       "  'HomeRuns': 574,\n",
       "  'LastName': 'Jacobssen',\n",
       "  'PlayerNumber': 76,\n",
       "  'PlayerPosition': '4th generation',\n",
       "  'TeamName': 'Universitas Simalungun',\n",
       "  'id': 44,\n",
       "  'sport_class': 'football'},\n",
       " {'FirstName': 'Saxon',\n",
       "  'HomeRuns': 164,\n",
       "  'LastName': 'Thwaites',\n",
       "  'PlayerNumber': 36,\n",
       "  'PlayerPosition': 'Pre-emptive',\n",
       "  'TeamName': 'Universidade do Sul de Santa Catarina',\n",
       "  'id': 45,\n",
       "  'sport_class': 'football'},\n",
       " {'FirstName': 'Gino',\n",
       "  'HomeRuns': 437,\n",
       "  'LastName': 'Hows',\n",
       "  'PlayerNumber': 18,\n",
       "  'PlayerPosition': 'paradigm',\n",
       "  'TeamName': 'Anna Maria College',\n",
       "  'id': 46,\n",
       "  'sport_class': 'football'},\n",
       " {'FirstName': 'Gladi',\n",
       "  'HomeRuns': 969,\n",
       "  'LastName': 'Siman',\n",
       "  'PlayerNumber': 30,\n",
       "  'PlayerPosition': 'User-centric',\n",
       "  'TeamName': 'Southern Methodist University',\n",
       "  'id': 47,\n",
       "  'sport_class': 'football'},\n",
       " {'FirstName': 'Cordi',\n",
       "  'HomeRuns': 516,\n",
       "  'LastName': 'Bristow',\n",
       "  'PlayerNumber': 28,\n",
       "  'PlayerPosition': 'ability',\n",
       "  'TeamName': 'Seisen University',\n",
       "  'id': 48,\n",
       "  'sport_class': 'football'},\n",
       " {'FirstName': 'Astra',\n",
       "  'HomeRuns': 885,\n",
       "  'LastName': 'Kidde',\n",
       "  'PlayerNumber': 98,\n",
       "  'PlayerPosition': '3rd generation',\n",
       "  'TeamName': 'City University',\n",
       "  'id': 49,\n",
       "  'sport_class': 'football'},\n",
       " {'FirstName': 'Denny',\n",
       "  'HomeRuns': 739,\n",
       "  'LastName': 'Payley',\n",
       "  'PlayerNumber': 3,\n",
       "  'PlayerPosition': 'analyzing',\n",
       "  'TeamName': 'Rutgers, The State University of New Jersey',\n",
       "  'id': 50,\n",
       "  'sport_class': 'football'},\n",
       " {'FirstName': 'Charissa',\n",
       "  'HomeRuns': 295,\n",
       "  'LastName': 'Orpyne',\n",
       "  'PlayerNumber': 16,\n",
       "  'PlayerPosition': 'protocol',\n",
       "  'TeamName': 'Universidad de Los Llanos',\n",
       "  'id': 51,\n",
       "  'sport_class': 'football'},\n",
       " {'FirstName': 'Beauregard',\n",
       "  'HomeRuns': 786,\n",
       "  'LastName': 'Cattellion',\n",
       "  'PlayerNumber': 83,\n",
       "  'PlayerPosition': 'encoding',\n",
       "  'TeamName': 'Université Protestante au Congo',\n",
       "  'id': 52,\n",
       "  'sport_class': 'football'},\n",
       " {'FirstName': 'Lacy',\n",
       "  'HomeRuns': 250,\n",
       "  'LastName': 'Fairchild',\n",
       "  'PlayerNumber': 98,\n",
       "  'PlayerPosition': 'Proactive',\n",
       "  'TeamName': 'Universidad de Concepcion',\n",
       "  'id': 53,\n",
       "  'sport_class': 'football'},\n",
       " {'FirstName': 'Hazlett',\n",
       "  'HomeRuns': 62,\n",
       "  'LastName': 'Venable',\n",
       "  'PlayerNumber': 79,\n",
       "  'PlayerPosition': 'synergy',\n",
       "  'TeamName': 'Hope International University',\n",
       "  'id': 54,\n",
       "  'sport_class': 'football'},\n",
       " {'FirstName': 'Codee',\n",
       "  'HomeRuns': 324,\n",
       "  'LastName': 'Philler',\n",
       "  'PlayerNumber': 28,\n",
       "  'PlayerPosition': 'Horizontal',\n",
       "  'TeamName': 'Osaka Sangyo University',\n",
       "  'id': 55,\n",
       "  'sport_class': 'football'},\n",
       " {'FirstName': 'Lorne',\n",
       "  'HomeRuns': 477,\n",
       "  'LastName': 'Pretley',\n",
       "  'PlayerNumber': 66,\n",
       "  'PlayerPosition': 'secondary',\n",
       "  'TeamName': 'Adamawa State University',\n",
       "  'id': 56,\n",
       "  'sport_class': 'football'},\n",
       " {'FirstName': 'Dannel',\n",
       "  'HomeRuns': 674,\n",
       "  'LastName': 'Lanfer',\n",
       "  'PlayerNumber': 46,\n",
       "  'PlayerPosition': 'clear-thinking',\n",
       "  'TeamName': 'University of Akron',\n",
       "  'id': 57,\n",
       "  'sport_class': 'football'},\n",
       " {'FirstName': 'Averill',\n",
       "  'HomeRuns': 642,\n",
       "  'LastName': 'Roycroft',\n",
       "  'PlayerNumber': 39,\n",
       "  'PlayerPosition': 'user-facing',\n",
       "  'TeamName': 'Far Eastern State Technical Fisheries University',\n",
       "  'id': 58,\n",
       "  'sport_class': 'football'},\n",
       " {'FirstName': 'Clerc',\n",
       "  'HomeRuns': 872,\n",
       "  'LastName': 'Esterbrook',\n",
       "  'PlayerNumber': 40,\n",
       "  'PlayerPosition': 'intranet',\n",
       "  'TeamName': 'Oduduwa University',\n",
       "  'id': 59,\n",
       "  'sport_class': 'football'},\n",
       " {'FirstName': 'Justino',\n",
       "  'HomeRuns': 618,\n",
       "  'LastName': 'McDowell',\n",
       "  'PlayerNumber': 52,\n",
       "  'PlayerPosition': 'standardization',\n",
       "  'TeamName': 'Universitas Tidar Magelang',\n",
       "  'id': 60,\n",
       "  'sport_class': 'football'},\n",
       " {'FirstName': 'Xena',\n",
       "  'HomeRuns': 928,\n",
       "  'LastName': 'Thackham',\n",
       "  'PlayerNumber': 95,\n",
       "  'PlayerPosition': 'frame',\n",
       "  'TeamName': 'Moore College of Art and Design',\n",
       "  'id': 61,\n",
       "  'sport_class': 'football'},\n",
       " {'FirstName': 'Heath',\n",
       "  'HomeRuns': 103,\n",
       "  'LastName': 'Benez',\n",
       "  'PlayerNumber': 14,\n",
       "  'PlayerPosition': 'Compatible',\n",
       "  'TeamName': 'Soran University',\n",
       "  'id': 62,\n",
       "  'sport_class': 'football'},\n",
       " {'FirstName': 'Vickie',\n",
       "  'HomeRuns': 884,\n",
       "  'LastName': 'Bousquet',\n",
       "  'PlayerNumber': 22,\n",
       "  'PlayerPosition': 'dedicated',\n",
       "  'TeamName': 'University of Latvia',\n",
       "  'id': 63,\n",
       "  'sport_class': 'football'},\n",
       " {'FirstName': 'Baillie',\n",
       "  'HomeRuns': 224,\n",
       "  'LastName': 'Pawels',\n",
       "  'PlayerNumber': 48,\n",
       "  'PlayerPosition': 'human-resource',\n",
       "  'TeamName': 'Yaroslavl International University of Business and New Technologies',\n",
       "  'id': 64,\n",
       "  'sport_class': 'football'},\n",
       " {'FirstName': 'Brian',\n",
       "  'HomeRuns': 61,\n",
       "  'LastName': 'Pennoni',\n",
       "  'PlayerNumber': 5,\n",
       "  'PlayerPosition': 'Distributed',\n",
       "  'TeamName': 'Nara Sangyo University',\n",
       "  'id': 65,\n",
       "  'sport_class': 'football'},\n",
       " {'FirstName': 'Florella',\n",
       "  'HomeRuns': 223,\n",
       "  'LastName': 'Purselow',\n",
       "  'PlayerNumber': 90,\n",
       "  'PlayerPosition': 'context-sensitive',\n",
       "  'TeamName': 'Ecole des Hautes Etudes Commerciales MAROC',\n",
       "  'id': 66,\n",
       "  'sport_class': 'football'},\n",
       " {'FirstName': 'Sergent',\n",
       "  'HomeRuns': 814,\n",
       "  'LastName': 'Gahagan',\n",
       "  'PlayerNumber': 32,\n",
       "  'PlayerPosition': 'homogeneous',\n",
       "  'TeamName': 'Universidad Simón Bolivar',\n",
       "  'id': 67,\n",
       "  'sport_class': 'football'},\n",
       " {'FirstName': 'Martin',\n",
       "  'HomeRuns': 979,\n",
       "  'LastName': 'Joire',\n",
       "  'PlayerNumber': 36,\n",
       "  'PlayerPosition': 'framework',\n",
       "  'TeamName': 'Saudi Electronic University',\n",
       "  'id': 68,\n",
       "  'sport_class': 'football'},\n",
       " {'FirstName': 'Janeva',\n",
       "  'HomeRuns': 561,\n",
       "  'LastName': 'Larkings',\n",
       "  'PlayerNumber': 69,\n",
       "  'PlayerPosition': 'Programmable',\n",
       "  'TeamName': 'Government College University Faisalabad',\n",
       "  'id': 69,\n",
       "  'sport_class': 'football'},\n",
       " {'FirstName': 'Anabal',\n",
       "  'HomeRuns': 480,\n",
       "  'LastName': 'Werrit',\n",
       "  'PlayerNumber': 33,\n",
       "  'PlayerPosition': 'Compatible',\n",
       "  'TeamName': 'Iwate Medical University',\n",
       "  'id': 70,\n",
       "  'sport_class': 'football'},\n",
       " {'FirstName': 'Leigha',\n",
       "  'HomeRuns': 432,\n",
       "  'LastName': 'Berre',\n",
       "  'PlayerNumber': 12,\n",
       "  'PlayerPosition': 'protocol',\n",
       "  'TeamName': 'Universidad del Valle de Toluca',\n",
       "  'id': 71,\n",
       "  'sport_class': 'football'},\n",
       " {'FirstName': 'Camey',\n",
       "  'HomeRuns': 79,\n",
       "  'LastName': 'Pedrollo',\n",
       "  'PlayerNumber': 2,\n",
       "  'PlayerPosition': 'Polarised',\n",
       "  'TeamName': 'Rakuno Gakuen University',\n",
       "  'id': 72,\n",
       "  'sport_class': 'football'},\n",
       " {'FirstName': 'Bryana',\n",
       "  'HomeRuns': 679,\n",
       "  'LastName': 'Thorsen',\n",
       "  'PlayerNumber': 74,\n",
       "  'PlayerPosition': 'directional',\n",
       "  'TeamName': 'Rockford College',\n",
       "  'id': 73,\n",
       "  'sport_class': 'football'},\n",
       " {'FirstName': 'Malorie',\n",
       "  'HomeRuns': 944,\n",
       "  'LastName': 'Dotson',\n",
       "  'PlayerNumber': 68,\n",
       "  'PlayerPosition': 'Down-sized',\n",
       "  'TeamName': 'United States Naval Academy',\n",
       "  'id': 74,\n",
       "  'sport_class': 'football'},\n",
       " {'FirstName': 'Georgia',\n",
       "  'HomeRuns': 393,\n",
       "  'LastName': 'Dearell',\n",
       "  'PlayerNumber': 89,\n",
       "  'PlayerPosition': 'interactive',\n",
       "  'TeamName': 'Marymount College New York',\n",
       "  'id': 75,\n",
       "  'sport_class': 'football'},\n",
       " {'FirstName': 'Elvira',\n",
       "  'HomeRuns': 445,\n",
       "  'LastName': 'Aldren',\n",
       "  'PlayerNumber': 40,\n",
       "  'PlayerPosition': 'Organized',\n",
       "  'TeamName': 'Fukuoka Institute of Technology',\n",
       "  'id': 76,\n",
       "  'sport_class': 'football'},\n",
       " {'FirstName': 'Janifer',\n",
       "  'HomeRuns': 451,\n",
       "  'LastName': 'Thorndycraft',\n",
       "  'PlayerNumber': 56,\n",
       "  'PlayerPosition': 'responsive',\n",
       "  'TeamName': 'Mountain View College',\n",
       "  'id': 77,\n",
       "  'sport_class': 'football'},\n",
       " {'FirstName': 'Joelly',\n",
       "  'HomeRuns': 797,\n",
       "  'LastName': 'Backwell',\n",
       "  'PlayerNumber': 20,\n",
       "  'PlayerPosition': 'Right-sized',\n",
       "  'TeamName': 'Universitas Darma Persada',\n",
       "  'id': 78,\n",
       "  'sport_class': 'football'},\n",
       " {'FirstName': 'Chet',\n",
       "  'HomeRuns': 20,\n",
       "  'LastName': 'Merrgan',\n",
       "  'PlayerNumber': 9,\n",
       "  'PlayerPosition': 'infrastructure',\n",
       "  'TeamName': 'Crichton College',\n",
       "  'id': 79,\n",
       "  'sport_class': 'football'},\n",
       " {'FirstName': 'Shanie',\n",
       "  'HomeRuns': 15,\n",
       "  'LastName': 'Yearsley',\n",
       "  'PlayerNumber': 61,\n",
       "  'PlayerPosition': 'Vision-oriented',\n",
       "  'TeamName': 'Queen Arwa University',\n",
       "  'id': 80,\n",
       "  'sport_class': 'football'},\n",
       " {'FirstName': 'Ernesta',\n",
       "  'HomeRuns': 107,\n",
       "  'LastName': 'Pryde',\n",
       "  'PlayerNumber': 2,\n",
       "  'PlayerPosition': 'Customizable',\n",
       "  'TeamName': 'Shokei College',\n",
       "  'id': 81,\n",
       "  'sport_class': 'football'},\n",
       " {'FirstName': 'Sylvester',\n",
       "  'HomeRuns': 736,\n",
       "  'LastName': 'Sutterby',\n",
       "  'PlayerNumber': 75,\n",
       "  'PlayerPosition': 'Synchronised',\n",
       "  'TeamName': 'George Washington University',\n",
       "  'id': 82,\n",
       "  'sport_class': 'football'},\n",
       " {'FirstName': 'Morley',\n",
       "  'HomeRuns': 297,\n",
       "  'LastName': 'Wharton',\n",
       "  'PlayerNumber': 84,\n",
       "  'PlayerPosition': 'Adaptive',\n",
       "  'TeamName': 'National Institute of Technology, Jamshedpur',\n",
       "  'id': 83,\n",
       "  'sport_class': 'football'},\n",
       " {'FirstName': 'Andree',\n",
       "  'HomeRuns': 967,\n",
       "  'LastName': 'Enbury',\n",
       "  'PlayerNumber': 97,\n",
       "  'PlayerPosition': 'asymmetric',\n",
       "  'TeamName': 'New College of Florida',\n",
       "  'id': 84,\n",
       "  'sport_class': 'football'},\n",
       " {'FirstName': 'Rand',\n",
       "  'HomeRuns': 133,\n",
       "  'LastName': 'Bedward',\n",
       "  'PlayerNumber': 85,\n",
       "  'PlayerPosition': 'Persevering',\n",
       "  'TeamName': 'The McGregor School of Antioch University',\n",
       "  'id': 85,\n",
       "  'sport_class': 'football'},\n",
       " {'FirstName': 'Chrissie',\n",
       "  'HomeRuns': 129,\n",
       "  'LastName': 'Enrrico',\n",
       "  'PlayerNumber': 92,\n",
       "  'PlayerPosition': 'extranet',\n",
       "  'TeamName': 'Visvesvaraya National Institute of Technology',\n",
       "  'id': 86,\n",
       "  'sport_class': 'football'},\n",
       " {'FirstName': 'Salim',\n",
       "  'HomeRuns': 887,\n",
       "  'LastName': 'Doul',\n",
       "  'PlayerNumber': 3,\n",
       "  'PlayerPosition': 'needs-based',\n",
       "  'TeamName': 'Universidad de Montevideo',\n",
       "  'id': 87,\n",
       "  'sport_class': 'football'},\n",
       " {'FirstName': 'Ardelis',\n",
       "  'HomeRuns': 561,\n",
       "  'LastName': 'Mintram',\n",
       "  'PlayerNumber': 73,\n",
       "  'PlayerPosition': 'flexibility',\n",
       "  'TeamName': 'COMSATS Institute of Information Technology, Wah',\n",
       "  'id': 88,\n",
       "  'sport_class': 'football'},\n",
       " {'FirstName': 'Dillie',\n",
       "  'HomeRuns': 853,\n",
       "  'LastName': 'Barens',\n",
       "  'PlayerNumber': 57,\n",
       "  'PlayerPosition': 'Robust',\n",
       "  'TeamName': 'Paris-Sorbonne University Abu Dhabi',\n",
       "  'id': 89,\n",
       "  'sport_class': 'football'},\n",
       " {'FirstName': 'Deborah',\n",
       "  'HomeRuns': 229,\n",
       "  'LastName': 'Learoyde',\n",
       "  'PlayerNumber': 53,\n",
       "  'PlayerPosition': 'zero administration',\n",
       "  'TeamName': 'Université de Yaoundé II',\n",
       "  'id': 90,\n",
       "  'sport_class': 'football'},\n",
       " {'FirstName': 'Cher',\n",
       "  'HomeRuns': 211,\n",
       "  'LastName': 'Davydychev',\n",
       "  'PlayerNumber': 69,\n",
       "  'PlayerPosition': 'pricing structure',\n",
       "  'TeamName': 'Zanjan University',\n",
       "  'id': 91,\n",
       "  'sport_class': 'football'},\n",
       " {'FirstName': 'Alyson',\n",
       "  'HomeRuns': 840,\n",
       "  'LastName': 'Earey',\n",
       "  'PlayerNumber': 79,\n",
       "  'PlayerPosition': 'project',\n",
       "  'TeamName': 'Fachhochschulstudiengänge Hagenberg',\n",
       "  'id': 92,\n",
       "  'sport_class': 'football'},\n",
       " {'FirstName': 'Celinda',\n",
       "  'HomeRuns': 269,\n",
       "  'LastName': 'Pavlovic',\n",
       "  'PlayerNumber': 81,\n",
       "  'PlayerPosition': 'Synergized',\n",
       "  'TeamName': \"Hiroshima Bunkyo Women's University\",\n",
       "  'id': 93,\n",
       "  'sport_class': 'football'},\n",
       " {'FirstName': 'Samaria',\n",
       "  'HomeRuns': 337,\n",
       "  'LastName': 'Cicerone',\n",
       "  'PlayerNumber': 14,\n",
       "  'PlayerPosition': 'frame',\n",
       "  'TeamName': 'Claremont Graduate University',\n",
       "  'id': 94,\n",
       "  'sport_class': 'football'},\n",
       " {'FirstName': 'Beth',\n",
       "  'HomeRuns': 924,\n",
       "  'LastName': 'Pingstone',\n",
       "  'PlayerNumber': 74,\n",
       "  'PlayerPosition': 'Proactive',\n",
       "  'TeamName': 'Minnesota Bible College',\n",
       "  'id': 95,\n",
       "  'sport_class': 'football'},\n",
       " {'FirstName': 'Nicolis',\n",
       "  'HomeRuns': 521,\n",
       "  'LastName': 'Schole',\n",
       "  'PlayerNumber': 12,\n",
       "  'PlayerPosition': 'De-engineered',\n",
       "  'TeamName': 'Kaplan University',\n",
       "  'id': 96,\n",
       "  'sport_class': 'football'},\n",
       " {'FirstName': 'Boniface',\n",
       "  'HomeRuns': 747,\n",
       "  'LastName': 'Manon',\n",
       "  'PlayerNumber': 50,\n",
       "  'PlayerPosition': 'Intuitive',\n",
       "  'TeamName': 'Kyoto University',\n",
       "  'id': 97,\n",
       "  'sport_class': 'football'},\n",
       " {'FirstName': 'Inge',\n",
       "  'HomeRuns': 804,\n",
       "  'LastName': 'Poland',\n",
       "  'PlayerNumber': 38,\n",
       "  'PlayerPosition': 'Centralized',\n",
       "  'TeamName': 'Universidad Interamericana de Educacion a Distancia de Panama',\n",
       "  'id': 98,\n",
       "  'sport_class': 'football'},\n",
       " {'FirstName': 'Ortensia',\n",
       "  'HomeRuns': 635,\n",
       "  'LastName': 'Esson',\n",
       "  'PlayerNumber': 21,\n",
       "  'PlayerPosition': 'national',\n",
       "  'TeamName': 'IDRAC (Institut de recherche en action commerciale)',\n",
       "  'id': 99,\n",
       "  'sport_class': 'football'},\n",
       " {'FirstName': 'Lissa',\n",
       "  'HomeRuns': 789,\n",
       "  'LastName': 'Normanville',\n",
       "  'PlayerNumber': 17,\n",
       "  'PlayerPosition': 'support',\n",
       "  'TeamName': 'Academy of Arts \"George Enescu\" Iasi',\n",
       "  'id': 100,\n",
       "  'sport_class': 'football'}]"
      ]
     },
     "execution_count": 117,
     "metadata": {},
     "output_type": "execute_result"
    }
   ],
   "source": [
    "players = []\n",
    "tp = df.id.dtypes\n",
    "for i in range(rows):\n",
    "    player = {}\n",
    "    for col in columns:\n",
    "        if type(df.loc[i][col]) == tp:\n",
    "            player[col] = int(df.loc[i][col])\n",
    "        else:\n",
    "            player[col] = df.loc[i][col]\n",
    "    players.append(player)\n",
    "    \n",
    "players"
   ]
  },
  {
   "cell_type": "code",
   "execution_count": 118,
   "metadata": {},
   "outputs": [
    {
     "data": {
      "text/plain": [
       "'[{\"id\": 1, \"FirstName\": \"Vinny\", \"LastName\": \"Wauchope\", \"PlayerNumber\": 59, \"TeamName\": \"First Nations University of Canada\", \"PlayerPosition\": \"client-server\", \"HomeRuns\": 581, \"sport_class\": \"football\"}, {\"id\": 2, \"FirstName\": \"Laina\", \"LastName\": \"Cradduck\", \"PlayerNumber\": 63, \"TeamName\": \"Universidad Torcuato di Tella\", \"PlayerPosition\": \"Up-sized\", \"HomeRuns\": 253, \"sport_class\": \"football\"}, {\"id\": 3, \"FirstName\": \"Erwin\", \"LastName\": \"Matei\", \"PlayerNumber\": 74, \"TeamName\": \"Universidad Peruana Union\", \"PlayerPosition\": \"clear-thinking\", \"HomeRuns\": 415, \"sport_class\": \"football\"}, {\"id\": 4, \"FirstName\": \"Shea\", \"LastName\": \"Dubery\", \"PlayerNumber\": 97, \"TeamName\": \"Fachhochschule Gie\\\\u00dfen-Friedberg\", \"PlayerPosition\": \"maximized\", \"HomeRuns\": 648, \"sport_class\": \"football\"}, {\"id\": 5, \"FirstName\": \"Eolanda\", \"LastName\": \"Jobbins\", \"PlayerNumber\": 57, \"TeamName\": \"Ho Chi Minh City University of Agriculture and Forestry\", \"PlayerPosition\": \"Quality-focused\", \"HomeRuns\": 64, \"sport_class\": \"football\"}, {\"id\": 6, \"FirstName\": \"Simonne\", \"LastName\": \"Pluck\", \"PlayerNumber\": 30, \"TeamName\": \"University of Wisconsin - Superior\", \"PlayerPosition\": \"artificial intelligence\", \"HomeRuns\": 792, \"sport_class\": \"football\"}, {\"id\": 7, \"FirstName\": \"Adele\", \"LastName\": \"Lightowler\", \"PlayerNumber\": 17, \"TeamName\": \"Dallas Baptist University\", \"PlayerPosition\": \"object-oriented\", \"HomeRuns\": 323, \"sport_class\": \"football\"}, {\"id\": 8, \"FirstName\": \"Emmy\", \"LastName\": \"Arthurs\", \"PlayerNumber\": 18, \"TeamName\": \"Western Baptist College\", \"PlayerPosition\": \"homogeneous\", \"HomeRuns\": 295, \"sport_class\": \"football\"}, {\"id\": 9, \"FirstName\": \"Jefferey\", \"LastName\": \"Daughton\", \"PlayerNumber\": 24, \"TeamName\": \"Ohio University - Eastern\", \"PlayerPosition\": \"zero tolerance\", \"HomeRuns\": 265, \"sport_class\": \"football\"}, {\"id\": 10, \"FirstName\": \"Lucien\", \"LastName\": \"Augustus\", \"PlayerNumber\": 55, \"TeamName\": \"Royal Melbourne Institute of Technology\", \"PlayerPosition\": \"ability\", \"HomeRuns\": 87, \"sport_class\": \"football\"}, {\"id\": 11, \"FirstName\": \"Shayne\", \"LastName\": \"Juschke\", \"PlayerNumber\": 9, \"TeamName\": \"Islamic Azad University, Bandar Abbas\", \"PlayerPosition\": \"systematic\", \"HomeRuns\": 289, \"sport_class\": \"football\"}, {\"id\": 12, \"FirstName\": \"Basil\", \"LastName\": \"Auchinleck\", \"PlayerNumber\": 65, \"TeamName\": \"Mahidol University\", \"PlayerPosition\": \"context-sensitive\", \"HomeRuns\": 699, \"sport_class\": \"football\"}, {\"id\": 13, \"FirstName\": \"Ashil\", \"LastName\": \"Westmarland\", \"PlayerNumber\": 52, \"TeamName\": \"Njala University\", \"PlayerPosition\": \"well-modulated\", \"HomeRuns\": 249, \"sport_class\": \"football\"}, {\"id\": 14, \"FirstName\": \"Edmund\", \"LastName\": \"Maund\", \"PlayerNumber\": 74, \"TeamName\": \"Sabanci University\", \"PlayerPosition\": \"didactic\", \"HomeRuns\": 890, \"sport_class\": \"football\"}, {\"id\": 15, \"FirstName\": \"Sholom\", \"LastName\": \"Waterhouse\", \"PlayerNumber\": 18, \"TeamName\": \"Universit\\\\u00e9 Shalom de Bunia\", \"PlayerPosition\": \"Cross-platform\", \"HomeRuns\": 509, \"sport_class\": \"football\"}, {\"id\": 16, \"FirstName\": \"Noni\", \"LastName\": \"Hollier\", \"PlayerNumber\": 56, \"TeamName\": \"Technological Education Institute of Athens\", \"PlayerPosition\": \"Fundamental\", \"HomeRuns\": 202, \"sport_class\": \"football\"}, {\"id\": 17, \"FirstName\": \"Eleanore\", \"LastName\": \"Meenehan\", \"PlayerNumber\": 20, \"TeamName\": \"Universit\\\\u00e9 de Sfax\", \"PlayerPosition\": \"Multi-layered\", \"HomeRuns\": 9, \"sport_class\": \"football\"}, {\"id\": 18, \"FirstName\": \"Lethia\", \"LastName\": \"Trinbey\", \"PlayerNumber\": 9, \"TeamName\": \"Gulf Medical University\", \"PlayerPosition\": \"Secured\", \"HomeRuns\": 818, \"sport_class\": \"football\"}, {\"id\": 19, \"FirstName\": \"Kaitlynn\", \"LastName\": \"Deacon\", \"PlayerNumber\": 33, \"TeamName\": \"Technological University (Sittwe)\", \"PlayerPosition\": \"attitude-oriented\", \"HomeRuns\": 964, \"sport_class\": \"football\"}, {\"id\": 20, \"FirstName\": \"Ania\", \"LastName\": \"Varlow\", \"PlayerNumber\": 5, \"TeamName\": \"New York School of Interior Design\", \"PlayerPosition\": \"Managed\", \"HomeRuns\": 4, \"sport_class\": \"football\"}, {\"id\": 21, \"FirstName\": \"Freda\", \"LastName\": \"McNickle\", \"PlayerNumber\": 54, \"TeamName\": \"Olivet College\", \"PlayerPosition\": \"Ameliorated\", \"HomeRuns\": 429, \"sport_class\": \"football\"}, {\"id\": 22, \"FirstName\": \"Karna\", \"LastName\": \"Alsobrook\", \"PlayerNumber\": 10, \"TeamName\": \"Saratov State Socio-Economic University\", \"PlayerPosition\": \"Advanced\", \"HomeRuns\": 676, \"sport_class\": \"football\"}, {\"id\": 23, \"FirstName\": \"Binnie\", \"LastName\": \"Stretton\", \"PlayerNumber\": 97, \"TeamName\": \"Universit\\\\u00e9 de Kikwite\", \"PlayerPosition\": \"responsive\", \"HomeRuns\": 844, \"sport_class\": \"football\"}, {\"id\": 24, \"FirstName\": \"Bridget\", \"LastName\": \"Benza\", \"PlayerNumber\": 50, \"TeamName\": \"Universidad Aut\\\\u00f3noma de Occidente\", \"PlayerPosition\": \"bifurcated\", \"HomeRuns\": 71, \"sport_class\": \"football\"}, {\"id\": 25, \"FirstName\": \"Gabriello\", \"LastName\": \"Huster\", \"PlayerNumber\": 78, \"TeamName\": \"Universidad Nacional Agraria La Molina\", \"PlayerPosition\": \"zero tolerance\", \"HomeRuns\": 419, \"sport_class\": \"football\"}, {\"id\": 26, \"FirstName\": \"Clari\", \"LastName\": \"Churm\", \"PlayerNumber\": 29, \"TeamName\": \"Fort Hays State University\", \"PlayerPosition\": \"high-level\", \"HomeRuns\": 882, \"sport_class\": \"football\"}, {\"id\": 27, \"FirstName\": \"Viva\", \"LastName\": \"McLeod\", \"PlayerNumber\": 7, \"TeamName\": \"Hochschule Bremerhaven\", \"PlayerPosition\": \"tertiary\", \"HomeRuns\": 607, \"sport_class\": \"football\"}, {\"id\": 28, \"FirstName\": \"Eamon\", \"LastName\": \"Moncaster\", \"PlayerNumber\": 30, \"TeamName\": \"Ecole Sup\\\\u00e9rieure de Commerce de Lille\", \"PlayerPosition\": \"next generation\", \"HomeRuns\": 992, \"sport_class\": \"football\"}, {\"id\": 29, \"FirstName\": \"Isa\", \"LastName\": \"Tuxsell\", \"PlayerNumber\": 89, \"TeamName\": \"Union University\", \"PlayerPosition\": \"Graphical User Interface\", \"HomeRuns\": 721, \"sport_class\": \"football\"}, {\"id\": 30, \"FirstName\": \"Donnie\", \"LastName\": \"Foote\", \"PlayerNumber\": 45, \"TeamName\": \"Hankuk University of Foreign Studies\", \"PlayerPosition\": \"hybrid\", \"HomeRuns\": 718, \"sport_class\": \"football\"}, {\"id\": 31, \"FirstName\": \"Davide\", \"LastName\": \"Emblem\", \"PlayerNumber\": 2, \"TeamName\": \"Southern Utah University\", \"PlayerPosition\": \"internet solution\", \"HomeRuns\": 180, \"sport_class\": \"football\"}, {\"id\": 32, \"FirstName\": \"Galina\", \"LastName\": \"Sibun\", \"PlayerNumber\": 82, \"TeamName\": \"Dalian University of Technology\", \"PlayerPosition\": \"grid-enabled\", \"HomeRuns\": 116, \"sport_class\": \"football\"}, {\"id\": 33, \"FirstName\": \"Raffarty\", \"LastName\": \"Burdfield\", \"PlayerNumber\": 83, \"TeamName\": \"Theologische Fakult\\\\u00e4t Paderborn\", \"PlayerPosition\": \"web-enabled\", \"HomeRuns\": 688, \"sport_class\": \"football\"}, {\"id\": 34, \"FirstName\": \"Doralyn\", \"LastName\": \"Takle\", \"PlayerNumber\": 40, \"TeamName\": \"Instituto Tecnologico de Durango\", \"PlayerPosition\": \"analyzer\", \"HomeRuns\": 70, \"sport_class\": \"football\"}, {\"id\": 35, \"FirstName\": \"Beauregard\", \"LastName\": \"Fatharly\", \"PlayerNumber\": 69, \"TeamName\": \"Polytechnic Institute of Milan\", \"PlayerPosition\": \"Cross-platform\", \"HomeRuns\": 60, \"sport_class\": \"football\"}, {\"id\": 36, \"FirstName\": \"Garfield\", \"LastName\": \"Harwood\", \"PlayerNumber\": 20, \"TeamName\": \"Universidad de Costa Rica\", \"PlayerPosition\": \"zero defect\", \"HomeRuns\": 698, \"sport_class\": \"football\"}, {\"id\": 37, \"FirstName\": \"Olympe\", \"LastName\": \"Kertess\", \"PlayerNumber\": 47, \"TeamName\": \"Universidad Aut\\\\u00f3noma del Beni \\\\\"Jos\\\\u00e9 Ballivi\\\\u00e1n\\\\\"\", \"PlayerPosition\": \"solution\", \"HomeRuns\": 393, \"sport_class\": \"football\"}, {\"id\": 38, \"FirstName\": \"Angela\", \"LastName\": \"Rymmer\", \"PlayerNumber\": 75, \"TeamName\": \"DeVry Institute of Technology\", \"PlayerPosition\": \"conglomeration\", \"HomeRuns\": 380, \"sport_class\": \"football\"}, {\"id\": 39, \"FirstName\": \"Stefa\", \"LastName\": \"Nurdin\", \"PlayerNumber\": 33, \"TeamName\": \"University of Manchester\", \"PlayerPosition\": \"Robust\", \"HomeRuns\": 804, \"sport_class\": \"football\"}, {\"id\": 40, \"FirstName\": \"Dru\", \"LastName\": \"Miliffe\", \"PlayerNumber\": 23, \"TeamName\": \"Escola Nautica Infante D. Henrique\", \"PlayerPosition\": \"firmware\", \"HomeRuns\": 401, \"sport_class\": \"football\"}, {\"id\": 41, \"FirstName\": \"Cybill\", \"LastName\": \"Beasant\", \"PlayerNumber\": 52, \"TeamName\": \"Universidad Nacional de C\\\\u00f3rdoba\", \"PlayerPosition\": \"asymmetric\", \"HomeRuns\": 34, \"sport_class\": \"football\"}, {\"id\": 42, \"FirstName\": \"Ashleigh\", \"LastName\": \"Onions\", \"PlayerNumber\": 56, \"TeamName\": \"American University of Tirana\", \"PlayerPosition\": \"next generation\", \"HomeRuns\": 571, \"sport_class\": \"football\"}, {\"id\": 43, \"FirstName\": \"Aubrie\", \"LastName\": \"Race\", \"PlayerNumber\": 60, \"TeamName\": \"Russian Customs Academy, Vladivostok Branch\", \"PlayerPosition\": \"explicit\", \"HomeRuns\": 497, \"sport_class\": \"football\"}, {\"id\": 44, \"FirstName\": \"Rubi\", \"LastName\": \"Jacobssen\", \"PlayerNumber\": 76, \"TeamName\": \"Universitas Simalungun\", \"PlayerPosition\": \"4th generation\", \"HomeRuns\": 574, \"sport_class\": \"football\"}, {\"id\": 45, \"FirstName\": \"Saxon\", \"LastName\": \"Thwaites\", \"PlayerNumber\": 36, \"TeamName\": \"Universidade do Sul de Santa Catarina\", \"PlayerPosition\": \"Pre-emptive\", \"HomeRuns\": 164, \"sport_class\": \"football\"}, {\"id\": 46, \"FirstName\": \"Gino\", \"LastName\": \"Hows\", \"PlayerNumber\": 18, \"TeamName\": \"Anna Maria College\", \"PlayerPosition\": \"paradigm\", \"HomeRuns\": 437, \"sport_class\": \"football\"}, {\"id\": 47, \"FirstName\": \"Gladi\", \"LastName\": \"Siman\", \"PlayerNumber\": 30, \"TeamName\": \"Southern Methodist University\", \"PlayerPosition\": \"User-centric\", \"HomeRuns\": 969, \"sport_class\": \"football\"}, {\"id\": 48, \"FirstName\": \"Cordi\", \"LastName\": \"Bristow\", \"PlayerNumber\": 28, \"TeamName\": \"Seisen University\", \"PlayerPosition\": \"ability\", \"HomeRuns\": 516, \"sport_class\": \"football\"}, {\"id\": 49, \"FirstName\": \"Astra\", \"LastName\": \"Kidde\", \"PlayerNumber\": 98, \"TeamName\": \"City University\", \"PlayerPosition\": \"3rd generation\", \"HomeRuns\": 885, \"sport_class\": \"football\"}, {\"id\": 50, \"FirstName\": \"Denny\", \"LastName\": \"Payley\", \"PlayerNumber\": 3, \"TeamName\": \"Rutgers, The State University of New Jersey\", \"PlayerPosition\": \"analyzing\", \"HomeRuns\": 739, \"sport_class\": \"football\"}, {\"id\": 51, \"FirstName\": \"Charissa\", \"LastName\": \"Orpyne\", \"PlayerNumber\": 16, \"TeamName\": \"Universidad de Los Llanos\", \"PlayerPosition\": \"protocol\", \"HomeRuns\": 295, \"sport_class\": \"football\"}, {\"id\": 52, \"FirstName\": \"Beauregard\", \"LastName\": \"Cattellion\", \"PlayerNumber\": 83, \"TeamName\": \"Universit\\\\u00e9 Protestante au Congo\", \"PlayerPosition\": \"encoding\", \"HomeRuns\": 786, \"sport_class\": \"football\"}, {\"id\": 53, \"FirstName\": \"Lacy\", \"LastName\": \"Fairchild\", \"PlayerNumber\": 98, \"TeamName\": \"Universidad de Concepcion\", \"PlayerPosition\": \"Proactive\", \"HomeRuns\": 250, \"sport_class\": \"football\"}, {\"id\": 54, \"FirstName\": \"Hazlett\", \"LastName\": \"Venable\", \"PlayerNumber\": 79, \"TeamName\": \"Hope International University\", \"PlayerPosition\": \"synergy\", \"HomeRuns\": 62, \"sport_class\": \"football\"}, {\"id\": 55, \"FirstName\": \"Codee\", \"LastName\": \"Philler\", \"PlayerNumber\": 28, \"TeamName\": \"Osaka Sangyo University\", \"PlayerPosition\": \"Horizontal\", \"HomeRuns\": 324, \"sport_class\": \"football\"}, {\"id\": 56, \"FirstName\": \"Lorne\", \"LastName\": \"Pretley\", \"PlayerNumber\": 66, \"TeamName\": \"Adamawa State University\", \"PlayerPosition\": \"secondary\", \"HomeRuns\": 477, \"sport_class\": \"football\"}, {\"id\": 57, \"FirstName\": \"Dannel\", \"LastName\": \"Lanfer\", \"PlayerNumber\": 46, \"TeamName\": \"University of Akron\", \"PlayerPosition\": \"clear-thinking\", \"HomeRuns\": 674, \"sport_class\": \"football\"}, {\"id\": 58, \"FirstName\": \"Averill\", \"LastName\": \"Roycroft\", \"PlayerNumber\": 39, \"TeamName\": \"Far Eastern State Technical Fisheries University\", \"PlayerPosition\": \"user-facing\", \"HomeRuns\": 642, \"sport_class\": \"football\"}, {\"id\": 59, \"FirstName\": \"Clerc\", \"LastName\": \"Esterbrook\", \"PlayerNumber\": 40, \"TeamName\": \"Oduduwa University\", \"PlayerPosition\": \"intranet\", \"HomeRuns\": 872, \"sport_class\": \"football\"}, {\"id\": 60, \"FirstName\": \"Justino\", \"LastName\": \"McDowell\", \"PlayerNumber\": 52, \"TeamName\": \"Universitas Tidar Magelang\", \"PlayerPosition\": \"standardization\", \"HomeRuns\": 618, \"sport_class\": \"football\"}, {\"id\": 61, \"FirstName\": \"Xena\", \"LastName\": \"Thackham\", \"PlayerNumber\": 95, \"TeamName\": \"Moore College of Art and Design\", \"PlayerPosition\": \"frame\", \"HomeRuns\": 928, \"sport_class\": \"football\"}, {\"id\": 62, \"FirstName\": \"Heath\", \"LastName\": \"Benez\", \"PlayerNumber\": 14, \"TeamName\": \"Soran University\", \"PlayerPosition\": \"Compatible\", \"HomeRuns\": 103, \"sport_class\": \"football\"}, {\"id\": 63, \"FirstName\": \"Vickie\", \"LastName\": \"Bousquet\", \"PlayerNumber\": 22, \"TeamName\": \"University of Latvia\", \"PlayerPosition\": \"dedicated\", \"HomeRuns\": 884, \"sport_class\": \"football\"}, {\"id\": 64, \"FirstName\": \"Baillie\", \"LastName\": \"Pawels\", \"PlayerNumber\": 48, \"TeamName\": \"Yaroslavl International University of Business and New Technologies\", \"PlayerPosition\": \"human-resource\", \"HomeRuns\": 224, \"sport_class\": \"football\"}, {\"id\": 65, \"FirstName\": \"Brian\", \"LastName\": \"Pennoni\", \"PlayerNumber\": 5, \"TeamName\": \"Nara Sangyo University\", \"PlayerPosition\": \"Distributed\", \"HomeRuns\": 61, \"sport_class\": \"football\"}, {\"id\": 66, \"FirstName\": \"Florella\", \"LastName\": \"Purselow\", \"PlayerNumber\": 90, \"TeamName\": \"Ecole des Hautes Etudes Commerciales MAROC\", \"PlayerPosition\": \"context-sensitive\", \"HomeRuns\": 223, \"sport_class\": \"football\"}, {\"id\": 67, \"FirstName\": \"Sergent\", \"LastName\": \"Gahagan\", \"PlayerNumber\": 32, \"TeamName\": \"Universidad Sim\\\\u00f3n Bolivar\", \"PlayerPosition\": \"homogeneous\", \"HomeRuns\": 814, \"sport_class\": \"football\"}, {\"id\": 68, \"FirstName\": \"Martin\", \"LastName\": \"Joire\", \"PlayerNumber\": 36, \"TeamName\": \"Saudi Electronic University\", \"PlayerPosition\": \"framework\", \"HomeRuns\": 979, \"sport_class\": \"football\"}, {\"id\": 69, \"FirstName\": \"Janeva\", \"LastName\": \"Larkings\", \"PlayerNumber\": 69, \"TeamName\": \"Government College University Faisalabad\", \"PlayerPosition\": \"Programmable\", \"HomeRuns\": 561, \"sport_class\": \"football\"}, {\"id\": 70, \"FirstName\": \"Anabal\", \"LastName\": \"Werrit\", \"PlayerNumber\": 33, \"TeamName\": \"Iwate Medical University\", \"PlayerPosition\": \"Compatible\", \"HomeRuns\": 480, \"sport_class\": \"football\"}, {\"id\": 71, \"FirstName\": \"Leigha\", \"LastName\": \"Berre\", \"PlayerNumber\": 12, \"TeamName\": \"Universidad del Valle de Toluca\", \"PlayerPosition\": \"protocol\", \"HomeRuns\": 432, \"sport_class\": \"football\"}, {\"id\": 72, \"FirstName\": \"Camey\", \"LastName\": \"Pedrollo\", \"PlayerNumber\": 2, \"TeamName\": \"Rakuno Gakuen University\", \"PlayerPosition\": \"Polarised\", \"HomeRuns\": 79, \"sport_class\": \"football\"}, {\"id\": 73, \"FirstName\": \"Bryana\", \"LastName\": \"Thorsen\", \"PlayerNumber\": 74, \"TeamName\": \"Rockford College\", \"PlayerPosition\": \"directional\", \"HomeRuns\": 679, \"sport_class\": \"football\"}, {\"id\": 74, \"FirstName\": \"Malorie\", \"LastName\": \"Dotson\", \"PlayerNumber\": 68, \"TeamName\": \"United States Naval Academy\", \"PlayerPosition\": \"Down-sized\", \"HomeRuns\": 944, \"sport_class\": \"football\"}, {\"id\": 75, \"FirstName\": \"Georgia\", \"LastName\": \"Dearell\", \"PlayerNumber\": 89, \"TeamName\": \"Marymount College New York\", \"PlayerPosition\": \"interactive\", \"HomeRuns\": 393, \"sport_class\": \"football\"}, {\"id\": 76, \"FirstName\": \"Elvira\", \"LastName\": \"Aldren\", \"PlayerNumber\": 40, \"TeamName\": \"Fukuoka Institute of Technology\", \"PlayerPosition\": \"Organized\", \"HomeRuns\": 445, \"sport_class\": \"football\"}, {\"id\": 77, \"FirstName\": \"Janifer\", \"LastName\": \"Thorndycraft\", \"PlayerNumber\": 56, \"TeamName\": \"Mountain View College\", \"PlayerPosition\": \"responsive\", \"HomeRuns\": 451, \"sport_class\": \"football\"}, {\"id\": 78, \"FirstName\": \"Joelly\", \"LastName\": \"Backwell\", \"PlayerNumber\": 20, \"TeamName\": \"Universitas Darma Persada\", \"PlayerPosition\": \"Right-sized\", \"HomeRuns\": 797, \"sport_class\": \"football\"}, {\"id\": 79, \"FirstName\": \"Chet\", \"LastName\": \"Merrgan\", \"PlayerNumber\": 9, \"TeamName\": \"Crichton College\", \"PlayerPosition\": \"infrastructure\", \"HomeRuns\": 20, \"sport_class\": \"football\"}, {\"id\": 80, \"FirstName\": \"Shanie\", \"LastName\": \"Yearsley\", \"PlayerNumber\": 61, \"TeamName\": \"Queen Arwa University\", \"PlayerPosition\": \"Vision-oriented\", \"HomeRuns\": 15, \"sport_class\": \"football\"}, {\"id\": 81, \"FirstName\": \"Ernesta\", \"LastName\": \"Pryde\", \"PlayerNumber\": 2, \"TeamName\": \"Shokei College\", \"PlayerPosition\": \"Customizable\", \"HomeRuns\": 107, \"sport_class\": \"football\"}, {\"id\": 82, \"FirstName\": \"Sylvester\", \"LastName\": \"Sutterby\", \"PlayerNumber\": 75, \"TeamName\": \"George Washington University\", \"PlayerPosition\": \"Synchronised\", \"HomeRuns\": 736, \"sport_class\": \"football\"}, {\"id\": 83, \"FirstName\": \"Morley\", \"LastName\": \"Wharton\", \"PlayerNumber\": 84, \"TeamName\": \"National Institute of Technology, Jamshedpur\", \"PlayerPosition\": \"Adaptive\", \"HomeRuns\": 297, \"sport_class\": \"football\"}, {\"id\": 84, \"FirstName\": \"Andree\", \"LastName\": \"Enbury\", \"PlayerNumber\": 97, \"TeamName\": \"New College of Florida\", \"PlayerPosition\": \"asymmetric\", \"HomeRuns\": 967, \"sport_class\": \"football\"}, {\"id\": 85, \"FirstName\": \"Rand\", \"LastName\": \"Bedward\", \"PlayerNumber\": 85, \"TeamName\": \"The McGregor School of Antioch University\", \"PlayerPosition\": \"Persevering\", \"HomeRuns\": 133, \"sport_class\": \"football\"}, {\"id\": 86, \"FirstName\": \"Chrissie\", \"LastName\": \"Enrrico\", \"PlayerNumber\": 92, \"TeamName\": \"Visvesvaraya National Institute of Technology\", \"PlayerPosition\": \"extranet\", \"HomeRuns\": 129, \"sport_class\": \"football\"}, {\"id\": 87, \"FirstName\": \"Salim\", \"LastName\": \"Doul\", \"PlayerNumber\": 3, \"TeamName\": \"Universidad de Montevideo\", \"PlayerPosition\": \"needs-based\", \"HomeRuns\": 887, \"sport_class\": \"football\"}, {\"id\": 88, \"FirstName\": \"Ardelis\", \"LastName\": \"Mintram\", \"PlayerNumber\": 73, \"TeamName\": \"COMSATS Institute of Information Technology, Wah\", \"PlayerPosition\": \"flexibility\", \"HomeRuns\": 561, \"sport_class\": \"football\"}, {\"id\": 89, \"FirstName\": \"Dillie\", \"LastName\": \"Barens\", \"PlayerNumber\": 57, \"TeamName\": \"Paris-Sorbonne University Abu Dhabi\", \"PlayerPosition\": \"Robust\", \"HomeRuns\": 853, \"sport_class\": \"football\"}, {\"id\": 90, \"FirstName\": \"Deborah\", \"LastName\": \"Learoyde\", \"PlayerNumber\": 53, \"TeamName\": \"Universit\\\\u00e9 de Yaound\\\\u00e9 II\", \"PlayerPosition\": \"zero administration\", \"HomeRuns\": 229, \"sport_class\": \"football\"}, {\"id\": 91, \"FirstName\": \"Cher\", \"LastName\": \"Davydychev\", \"PlayerNumber\": 69, \"TeamName\": \"Zanjan University\", \"PlayerPosition\": \"pricing structure\", \"HomeRuns\": 211, \"sport_class\": \"football\"}, {\"id\": 92, \"FirstName\": \"Alyson\", \"LastName\": \"Earey\", \"PlayerNumber\": 79, \"TeamName\": \"Fachhochschulstudieng\\\\u00e4nge Hagenberg\", \"PlayerPosition\": \"project\", \"HomeRuns\": 840, \"sport_class\": \"football\"}, {\"id\": 93, \"FirstName\": \"Celinda\", \"LastName\": \"Pavlovic\", \"PlayerNumber\": 81, \"TeamName\": \"Hiroshima Bunkyo Women\\'s University\", \"PlayerPosition\": \"Synergized\", \"HomeRuns\": 269, \"sport_class\": \"football\"}, {\"id\": 94, \"FirstName\": \"Samaria\", \"LastName\": \"Cicerone\", \"PlayerNumber\": 14, \"TeamName\": \"Claremont Graduate University\", \"PlayerPosition\": \"frame\", \"HomeRuns\": 337, \"sport_class\": \"football\"}, {\"id\": 95, \"FirstName\": \"Beth\", \"LastName\": \"Pingstone\", \"PlayerNumber\": 74, \"TeamName\": \"Minnesota Bible College\", \"PlayerPosition\": \"Proactive\", \"HomeRuns\": 924, \"sport_class\": \"football\"}, {\"id\": 96, \"FirstName\": \"Nicolis\", \"LastName\": \"Schole\", \"PlayerNumber\": 12, \"TeamName\": \"Kaplan University\", \"PlayerPosition\": \"De-engineered\", \"HomeRuns\": 521, \"sport_class\": \"football\"}, {\"id\": 97, \"FirstName\": \"Boniface\", \"LastName\": \"Manon\", \"PlayerNumber\": 50, \"TeamName\": \"Kyoto University\", \"PlayerPosition\": \"Intuitive\", \"HomeRuns\": 747, \"sport_class\": \"football\"}, {\"id\": 98, \"FirstName\": \"Inge\", \"LastName\": \"Poland\", \"PlayerNumber\": 38, \"TeamName\": \"Universidad Interamericana de Educacion a Distancia de Panama\", \"PlayerPosition\": \"Centralized\", \"HomeRuns\": 804, \"sport_class\": \"football\"}, {\"id\": 99, \"FirstName\": \"Ortensia\", \"LastName\": \"Esson\", \"PlayerNumber\": 21, \"TeamName\": \"IDRAC (Institut de recherche en action commerciale)\", \"PlayerPosition\": \"national\", \"HomeRuns\": 635, \"sport_class\": \"football\"}, {\"id\": 100, \"FirstName\": \"Lissa\", \"LastName\": \"Normanville\", \"PlayerNumber\": 17, \"TeamName\": \"Academy of Arts \\\\\"George Enescu\\\\\" Iasi\", \"PlayerPosition\": \"support\", \"HomeRuns\": 789, \"sport_class\": \"football\"}]'"
      ]
     },
     "execution_count": 118,
     "metadata": {},
     "output_type": "execute_result"
    }
   ],
   "source": [
    "json.dumps(players)"
   ]
  },
  {
   "cell_type": "code",
   "execution_count": 105,
   "metadata": {},
   "outputs": [
    {
     "ename": "NameError",
     "evalue": "name 'int64' is not defined",
     "output_type": "error",
     "traceback": [
      "\u001b[0;31m---------------------------------------------------------------------------\u001b[0m",
      "\u001b[0;31mNameError\u001b[0m                                 Traceback (most recent call last)",
      "\u001b[0;32m<ipython-input-105-7937a177e843>\u001b[0m in \u001b[0;36m<module>\u001b[0;34m()\u001b[0m\n\u001b[0;32m----> 1\u001b[0;31m \u001b[0mtype\u001b[0m\u001b[0;34m(\u001b[0m\u001b[0mint64\u001b[0m\u001b[0;34m)\u001b[0m\u001b[0;34m\u001b[0m\u001b[0m\n\u001b[0m",
      "\u001b[0;31mNameError\u001b[0m: name 'int64' is not defined"
     ]
    }
   ],
   "source": []
  },
  {
   "cell_type": "code",
   "execution_count": 107,
   "metadata": {},
   "outputs": [
    {
     "data": {
      "text/plain": [
       "dtype('int64')"
      ]
     },
     "execution_count": 107,
     "metadata": {},
     "output_type": "execute_result"
    }
   ],
   "source": [
    "tp = df.id.dtypes"
   ]
  },
  {
   "cell_type": "code",
   "execution_count": 114,
   "metadata": {},
   "outputs": [
    {
     "data": {
      "text/plain": [
       "numpy.int64"
      ]
     },
     "execution_count": 114,
     "metadata": {},
     "output_type": "execute_result"
    }
   ],
   "source": [
    "import numpy as np\n",
    "a = np.int64()\n",
    "type(a)"
   ]
  },
  {
   "cell_type": "code",
   "execution_count": 116,
   "metadata": {},
   "outputs": [
    {
     "ename": "NameError",
     "evalue": "name 'int64' is not defined",
     "output_type": "error",
     "traceback": [
      "\u001b[0;31m---------------------------------------------------------------------------\u001b[0m",
      "\u001b[0;31mNameError\u001b[0m                                 Traceback (most recent call last)",
      "\u001b[0;32m<ipython-input-116-49bc5f6bc542>\u001b[0m in \u001b[0;36m<module>\u001b[0;34m()\u001b[0m\n\u001b[0;32m----> 1\u001b[0;31m \u001b[0mnp\u001b[0m\u001b[0;34m.\u001b[0m\u001b[0mdtype\u001b[0m\u001b[0;34m(\u001b[0m\u001b[0mint64\u001b[0m\u001b[0;34m)\u001b[0m\u001b[0;34m\u001b[0m\u001b[0m\n\u001b[0m",
      "\u001b[0;31mNameError\u001b[0m: name 'int64' is not defined"
     ]
    }
   ],
   "source": [
    "np.dtype(int64)"
   ]
  },
  {
   "cell_type": "code",
   "execution_count": null,
   "metadata": {},
   "outputs": [],
   "source": []
  }
 ],
 "metadata": {
  "kernelspec": {
   "display_name": "Python 3",
   "language": "python",
   "name": "python3"
  },
  "language_info": {
   "codemirror_mode": {
    "name": "ipython",
    "version": 3
   },
   "file_extension": ".py",
   "mimetype": "text/x-python",
   "name": "python",
   "nbconvert_exporter": "python",
   "pygments_lexer": "ipython3",
   "version": "3.6.4"
  }
 },
 "nbformat": 4,
 "nbformat_minor": 2
}
